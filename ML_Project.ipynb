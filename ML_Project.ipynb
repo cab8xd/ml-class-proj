{
  "nbformat": 4,
  "nbformat_minor": 0,
  "metadata": {
    "colab": {
      "name": "ML_Project",
      "provenance": [],
      "collapsed_sections": []
    },
    "kernelspec": {
      "name": "python3",
      "display_name": "Python 3"
    }
  },
  "cells": [
    {
      "cell_type": "markdown",
      "metadata": {
        "id": "AlpogUsf3rRd"
      },
      "source": [
        "# Outline\n",
        "\n",
        "1) Problem\n",
        "\n",
        "2) Import data\n",
        "\n",
        "3) Visualize data (for funsies)\n",
        "\n",
        "3) Data cleaning - Christine\n",
        "\n",
        "4) Run through multiple models\n",
        "\n",
        "5) Tune the selected model\n",
        "\n",
        "6) Present your solution"
      ]
    },
    {
      "cell_type": "markdown",
      "metadata": {
        "id": "zjtc13DUGu6t"
      },
      "source": [
        "# Problem: maybe title here or smth"
      ]
    },
    {
      "cell_type": "markdown",
      "metadata": {
        "id": "6R-iEbyiG4XH"
      },
      "source": [
        "# The Data\n",
        "import data and a lil visualization of the correlations\n",
        "\n",
        "Go to [spreadsheet](https://docs.google.com/spreadsheets/d/1YvNCkJEKMRMebIcpjLd1U2vu1tJ1K5iVmRVppe-rq-g/edit#gid=2025110937) > Download first sheet as csv and upload file to Colab under sample_data."
      ]
    },
    {
      "cell_type": "code",
      "metadata": {
        "id": "RUxm8Zrmp7rf"
      },
      "source": [
        "# Libraries\n",
        "import sklearn # general ml package\n",
        "import pandas as pd # Pandas module to enable data manipulation\n",
        "import numpy as np # fundamental package for scientific computing\n",
        "import os # to run file I/O operation \n",
        "from sklearn.pipeline import Pipeline\n",
        "from sklearn.preprocessing import StandardScaler\n",
        "from sklearn.impute import SimpleImputer\n",
        "from sklearn.model_selection import train_test_split\n",
        "\n",
        "# to make this notebook's output stable across runs\n",
        "# any number will do, as long as it is used consistently\n",
        "np.random.seed(42)"
      ],
      "execution_count": null,
      "outputs": []
    },
    {
      "cell_type": "code",
      "metadata": {
        "id": "EH_uvaAeH6oh",
        "colab": {
          "base_uri": "https://localhost:8080/",
          "height": 757
        },
        "outputId": "fdced789-f93e-477f-d224-c94e4ce19ed8"
      },
      "source": [
        "# Import data from COVID-19_HOI_Data__Charlottesville_only_ sheet.\n",
        "DATA_PATH = \"sample_data\"\n",
        "\n",
        "def load_data(data_path=DATA_PATH):\n",
        "    \"\"\"Load Data into Workspace from a CSV\"\"\"\n",
        "    csv_path = os.path.join(data_path, \"ML_project_spreadsheet - COVID-19_HOI_Data__Charlottesville_only.csv\")\n",
        "    return pd.read_csv(csv_path, delim_whitespace=False)\n",
        "\n",
        "data = load_data()\n",
        "# Display the first n rows of the data. (n=5 by default, we will use 10 rows)\n",
        "data.head(10)"
      ],
      "execution_count": null,
      "outputs": [
        {
          "output_type": "execute_result",
          "data": {
            "text/html": [
              "<div>\n",
              "<style scoped>\n",
              "    .dataframe tbody tr th:only-of-type {\n",
              "        vertical-align: middle;\n",
              "    }\n",
              "\n",
              "    .dataframe tbody tr th {\n",
              "        vertical-align: top;\n",
              "    }\n",
              "\n",
              "    .dataframe thead th {\n",
              "        text-align: right;\n",
              "    }\n",
              "</style>\n",
              "<table border=\"1\" class=\"dataframe\">\n",
              "  <thead>\n",
              "    <tr style=\"text-align: right;\">\n",
              "      <th></th>\n",
              "      <th>fips</th>\n",
              "      <th>admin2</th>\n",
              "      <th>province_state</th>\n",
              "      <th>country_region</th>\n",
              "      <th>last_update</th>\n",
              "      <th>lat</th>\n",
              "      <th>long_</th>\n",
              "      <th>confirmed</th>\n",
              "      <th>confirmed_delta</th>\n",
              "      <th>deaths</th>\n",
              "      <th>deaths_delta</th>\n",
              "      <th>recovered</th>\n",
              "      <th>recovered_delta</th>\n",
              "      <th>active</th>\n",
              "      <th>active_delta</th>\n",
              "      <th>geocoded_column</th>\n",
              "      <th>Unnamed: 16</th>\n",
              "      <th>Access to Care</th>\n",
              "      <th>Employment Accessibility</th>\n",
              "      <th>Affordability</th>\n",
              "      <th>Air Quality</th>\n",
              "      <th>Population Churning</th>\n",
              "      <th>Education</th>\n",
              "      <th>Food Accessibility</th>\n",
              "      <th>Income Inequality</th>\n",
              "      <th>Job Participation</th>\n",
              "      <th>Population Density</th>\n",
              "      <th>Segregation</th>\n",
              "      <th>Material Deprivation</th>\n",
              "      <th>Walkability</th>\n",
              "      <th>Community Environment Profile</th>\n",
              "      <th>Consumer Opportunity Profile</th>\n",
              "      <th>Economic Opportunity Profile</th>\n",
              "      <th>Wellness Disparity Profile</th>\n",
              "      <th>Health Opportunity Index</th>\n",
              "    </tr>\n",
              "  </thead>\n",
              "  <tbody>\n",
              "    <tr>\n",
              "      <th>0</th>\n",
              "      <td>51540</td>\n",
              "      <td>Charlottesville</td>\n",
              "      <td>Virginia</td>\n",
              "      <td>US</td>\n",
              "      <td>10/15/2020 4:24:28 AM</td>\n",
              "      <td>38.035279</td>\n",
              "      <td>-78.485696</td>\n",
              "      <td>1472</td>\n",
              "      <td>5.0</td>\n",
              "      <td>31</td>\n",
              "      <td>0.0</td>\n",
              "      <td>0</td>\n",
              "      <td>0.0</td>\n",
              "      <td>1441</td>\n",
              "      <td>5.0</td>\n",
              "      <td>POINT (-78.48569588 38.03527919)</td>\n",
              "      <td>NaN</td>\n",
              "      <td>0.656957</td>\n",
              "      <td>0.100728</td>\n",
              "      <td>0.501752</td>\n",
              "      <td>0.653701</td>\n",
              "      <td>0.686917</td>\n",
              "      <td>0.785421</td>\n",
              "      <td>0.944525</td>\n",
              "      <td>0.337269</td>\n",
              "      <td>0.622</td>\n",
              "      <td>0.069893</td>\n",
              "      <td>0.660399</td>\n",
              "      <td>0.392836</td>\n",
              "      <td>0.251878</td>\n",
              "      <td>0.458073</td>\n",
              "      <td>0.663806</td>\n",
              "      <td>0.235026</td>\n",
              "      <td>0.586987</td>\n",
              "      <td>0.368809</td>\n",
              "    </tr>\n",
              "    <tr>\n",
              "      <th>1</th>\n",
              "      <td>51540</td>\n",
              "      <td>Charlottesville</td>\n",
              "      <td>Virginia</td>\n",
              "      <td>US</td>\n",
              "      <td>10/14/2020 4:24:05 AM</td>\n",
              "      <td>38.035279</td>\n",
              "      <td>-78.485696</td>\n",
              "      <td>1467</td>\n",
              "      <td>1.0</td>\n",
              "      <td>31</td>\n",
              "      <td>1.0</td>\n",
              "      <td>0</td>\n",
              "      <td>0.0</td>\n",
              "      <td>1436</td>\n",
              "      <td>0.0</td>\n",
              "      <td>POINT (-78.48569588 38.03527919)</td>\n",
              "      <td>NaN</td>\n",
              "      <td>0.656957</td>\n",
              "      <td>0.100728</td>\n",
              "      <td>0.501752</td>\n",
              "      <td>0.653701</td>\n",
              "      <td>0.686917</td>\n",
              "      <td>0.785421</td>\n",
              "      <td>0.944525</td>\n",
              "      <td>0.337269</td>\n",
              "      <td>0.622</td>\n",
              "      <td>0.069893</td>\n",
              "      <td>0.660399</td>\n",
              "      <td>0.392836</td>\n",
              "      <td>0.251878</td>\n",
              "      <td>0.458073</td>\n",
              "      <td>0.663806</td>\n",
              "      <td>0.235026</td>\n",
              "      <td>0.586987</td>\n",
              "      <td>0.368809</td>\n",
              "    </tr>\n",
              "    <tr>\n",
              "      <th>2</th>\n",
              "      <td>51540</td>\n",
              "      <td>Charlottesville</td>\n",
              "      <td>Virginia</td>\n",
              "      <td>US</td>\n",
              "      <td>10/12/2020 4:23:45 AM</td>\n",
              "      <td>38.035279</td>\n",
              "      <td>-78.485696</td>\n",
              "      <td>1461</td>\n",
              "      <td>8.0</td>\n",
              "      <td>30</td>\n",
              "      <td>0.0</td>\n",
              "      <td>0</td>\n",
              "      <td>0.0</td>\n",
              "      <td>1431</td>\n",
              "      <td>8.0</td>\n",
              "      <td>POINT (-78.48569588 38.03527919)</td>\n",
              "      <td>NaN</td>\n",
              "      <td>0.656957</td>\n",
              "      <td>0.100728</td>\n",
              "      <td>0.501752</td>\n",
              "      <td>0.653701</td>\n",
              "      <td>0.686917</td>\n",
              "      <td>0.785421</td>\n",
              "      <td>0.944525</td>\n",
              "      <td>0.337269</td>\n",
              "      <td>0.622</td>\n",
              "      <td>0.069893</td>\n",
              "      <td>0.660399</td>\n",
              "      <td>0.392836</td>\n",
              "      <td>0.251878</td>\n",
              "      <td>0.458073</td>\n",
              "      <td>0.663806</td>\n",
              "      <td>0.235026</td>\n",
              "      <td>0.586987</td>\n",
              "      <td>0.368809</td>\n",
              "    </tr>\n",
              "    <tr>\n",
              "      <th>3</th>\n",
              "      <td>51540</td>\n",
              "      <td>Charlottesville</td>\n",
              "      <td>Virginia</td>\n",
              "      <td>US</td>\n",
              "      <td>10/06/2020 4:23:33 AM</td>\n",
              "      <td>38.035279</td>\n",
              "      <td>-78.485696</td>\n",
              "      <td>1380</td>\n",
              "      <td>16.0</td>\n",
              "      <td>29</td>\n",
              "      <td>0.0</td>\n",
              "      <td>0</td>\n",
              "      <td>0.0</td>\n",
              "      <td>1351</td>\n",
              "      <td>16.0</td>\n",
              "      <td>POINT (-78.48569588 38.03527919)</td>\n",
              "      <td>NaN</td>\n",
              "      <td>0.656957</td>\n",
              "      <td>0.100728</td>\n",
              "      <td>0.501752</td>\n",
              "      <td>0.653701</td>\n",
              "      <td>0.686917</td>\n",
              "      <td>0.785421</td>\n",
              "      <td>0.944525</td>\n",
              "      <td>0.337269</td>\n",
              "      <td>0.622</td>\n",
              "      <td>0.069893</td>\n",
              "      <td>0.660399</td>\n",
              "      <td>0.392836</td>\n",
              "      <td>0.251878</td>\n",
              "      <td>0.458073</td>\n",
              "      <td>0.663806</td>\n",
              "      <td>0.235026</td>\n",
              "      <td>0.586987</td>\n",
              "      <td>0.368809</td>\n",
              "    </tr>\n",
              "    <tr>\n",
              "      <th>4</th>\n",
              "      <td>51540</td>\n",
              "      <td>Charlottesville</td>\n",
              "      <td>Virginia</td>\n",
              "      <td>US</td>\n",
              "      <td>10/11/2020 4:23:46 AM</td>\n",
              "      <td>38.035279</td>\n",
              "      <td>-78.485696</td>\n",
              "      <td>1453</td>\n",
              "      <td>15.0</td>\n",
              "      <td>30</td>\n",
              "      <td>0.0</td>\n",
              "      <td>0</td>\n",
              "      <td>0.0</td>\n",
              "      <td>1423</td>\n",
              "      <td>15.0</td>\n",
              "      <td>POINT (-78.48569588 38.03527919)</td>\n",
              "      <td>NaN</td>\n",
              "      <td>0.656957</td>\n",
              "      <td>0.100728</td>\n",
              "      <td>0.501752</td>\n",
              "      <td>0.653701</td>\n",
              "      <td>0.686917</td>\n",
              "      <td>0.785421</td>\n",
              "      <td>0.944525</td>\n",
              "      <td>0.337269</td>\n",
              "      <td>0.622</td>\n",
              "      <td>0.069893</td>\n",
              "      <td>0.660399</td>\n",
              "      <td>0.392836</td>\n",
              "      <td>0.251878</td>\n",
              "      <td>0.458073</td>\n",
              "      <td>0.663806</td>\n",
              "      <td>0.235026</td>\n",
              "      <td>0.586987</td>\n",
              "      <td>0.368809</td>\n",
              "    </tr>\n",
              "    <tr>\n",
              "      <th>5</th>\n",
              "      <td>51540</td>\n",
              "      <td>Charlottesville</td>\n",
              "      <td>Virginia</td>\n",
              "      <td>US</td>\n",
              "      <td>10/13/2020 4:24:02 AM</td>\n",
              "      <td>38.035279</td>\n",
              "      <td>-78.485696</td>\n",
              "      <td>1466</td>\n",
              "      <td>5.0</td>\n",
              "      <td>30</td>\n",
              "      <td>0.0</td>\n",
              "      <td>0</td>\n",
              "      <td>0.0</td>\n",
              "      <td>1436</td>\n",
              "      <td>5.0</td>\n",
              "      <td>POINT (-78.48569588 38.03527919)</td>\n",
              "      <td>NaN</td>\n",
              "      <td>0.656957</td>\n",
              "      <td>0.100728</td>\n",
              "      <td>0.501752</td>\n",
              "      <td>0.653701</td>\n",
              "      <td>0.686917</td>\n",
              "      <td>0.785421</td>\n",
              "      <td>0.944525</td>\n",
              "      <td>0.337269</td>\n",
              "      <td>0.622</td>\n",
              "      <td>0.069893</td>\n",
              "      <td>0.660399</td>\n",
              "      <td>0.392836</td>\n",
              "      <td>0.251878</td>\n",
              "      <td>0.458073</td>\n",
              "      <td>0.663806</td>\n",
              "      <td>0.235026</td>\n",
              "      <td>0.586987</td>\n",
              "      <td>0.368809</td>\n",
              "    </tr>\n",
              "    <tr>\n",
              "      <th>6</th>\n",
              "      <td>51540</td>\n",
              "      <td>Charlottesville</td>\n",
              "      <td>Virginia</td>\n",
              "      <td>US</td>\n",
              "      <td>10/10/2020 4:23:57 AM</td>\n",
              "      <td>38.035279</td>\n",
              "      <td>-78.485696</td>\n",
              "      <td>1438</td>\n",
              "      <td>17.0</td>\n",
              "      <td>30</td>\n",
              "      <td>0.0</td>\n",
              "      <td>0</td>\n",
              "      <td>0.0</td>\n",
              "      <td>1408</td>\n",
              "      <td>17.0</td>\n",
              "      <td>POINT (-78.48569588 38.03527919)</td>\n",
              "      <td>NaN</td>\n",
              "      <td>0.656957</td>\n",
              "      <td>0.100728</td>\n",
              "      <td>0.501752</td>\n",
              "      <td>0.653701</td>\n",
              "      <td>0.686917</td>\n",
              "      <td>0.785421</td>\n",
              "      <td>0.944525</td>\n",
              "      <td>0.337269</td>\n",
              "      <td>0.622</td>\n",
              "      <td>0.069893</td>\n",
              "      <td>0.660399</td>\n",
              "      <td>0.392836</td>\n",
              "      <td>0.251878</td>\n",
              "      <td>0.458073</td>\n",
              "      <td>0.663806</td>\n",
              "      <td>0.235026</td>\n",
              "      <td>0.586987</td>\n",
              "      <td>0.368809</td>\n",
              "    </tr>\n",
              "    <tr>\n",
              "      <th>7</th>\n",
              "      <td>51540</td>\n",
              "      <td>Charlottesville</td>\n",
              "      <td>Virginia</td>\n",
              "      <td>US</td>\n",
              "      <td>10/09/2020 4:23:59 AM</td>\n",
              "      <td>38.035279</td>\n",
              "      <td>-78.485696</td>\n",
              "      <td>1421</td>\n",
              "      <td>35.0</td>\n",
              "      <td>30</td>\n",
              "      <td>0.0</td>\n",
              "      <td>0</td>\n",
              "      <td>0.0</td>\n",
              "      <td>1391</td>\n",
              "      <td>35.0</td>\n",
              "      <td>POINT (-78.48569588 38.03527919)</td>\n",
              "      <td>NaN</td>\n",
              "      <td>0.656957</td>\n",
              "      <td>0.100728</td>\n",
              "      <td>0.501752</td>\n",
              "      <td>0.653701</td>\n",
              "      <td>0.686917</td>\n",
              "      <td>0.785421</td>\n",
              "      <td>0.944525</td>\n",
              "      <td>0.337269</td>\n",
              "      <td>0.622</td>\n",
              "      <td>0.069893</td>\n",
              "      <td>0.660399</td>\n",
              "      <td>0.392836</td>\n",
              "      <td>0.251878</td>\n",
              "      <td>0.458073</td>\n",
              "      <td>0.663806</td>\n",
              "      <td>0.235026</td>\n",
              "      <td>0.586987</td>\n",
              "      <td>0.368809</td>\n",
              "    </tr>\n",
              "    <tr>\n",
              "      <th>8</th>\n",
              "      <td>51540</td>\n",
              "      <td>Charlottesville</td>\n",
              "      <td>Virginia</td>\n",
              "      <td>US</td>\n",
              "      <td>10/07/2020 4:23:40 AM</td>\n",
              "      <td>38.035279</td>\n",
              "      <td>-78.485696</td>\n",
              "      <td>1383</td>\n",
              "      <td>3.0</td>\n",
              "      <td>30</td>\n",
              "      <td>1.0</td>\n",
              "      <td>0</td>\n",
              "      <td>0.0</td>\n",
              "      <td>1353</td>\n",
              "      <td>2.0</td>\n",
              "      <td>POINT (-78.48569588 38.03527919)</td>\n",
              "      <td>NaN</td>\n",
              "      <td>0.656957</td>\n",
              "      <td>0.100728</td>\n",
              "      <td>0.501752</td>\n",
              "      <td>0.653701</td>\n",
              "      <td>0.686917</td>\n",
              "      <td>0.785421</td>\n",
              "      <td>0.944525</td>\n",
              "      <td>0.337269</td>\n",
              "      <td>0.622</td>\n",
              "      <td>0.069893</td>\n",
              "      <td>0.660399</td>\n",
              "      <td>0.392836</td>\n",
              "      <td>0.251878</td>\n",
              "      <td>0.458073</td>\n",
              "      <td>0.663806</td>\n",
              "      <td>0.235026</td>\n",
              "      <td>0.586987</td>\n",
              "      <td>0.368809</td>\n",
              "    </tr>\n",
              "    <tr>\n",
              "      <th>9</th>\n",
              "      <td>51540</td>\n",
              "      <td>Charlottesville</td>\n",
              "      <td>Virginia</td>\n",
              "      <td>US</td>\n",
              "      <td>10/08/2020 4:23:56 AM</td>\n",
              "      <td>38.035279</td>\n",
              "      <td>-78.485696</td>\n",
              "      <td>1386</td>\n",
              "      <td>3.0</td>\n",
              "      <td>30</td>\n",
              "      <td>0.0</td>\n",
              "      <td>0</td>\n",
              "      <td>0.0</td>\n",
              "      <td>1356</td>\n",
              "      <td>3.0</td>\n",
              "      <td>POINT (-78.48569588 38.03527919)</td>\n",
              "      <td>NaN</td>\n",
              "      <td>0.656957</td>\n",
              "      <td>0.100728</td>\n",
              "      <td>0.501752</td>\n",
              "      <td>0.653701</td>\n",
              "      <td>0.686917</td>\n",
              "      <td>0.785421</td>\n",
              "      <td>0.944525</td>\n",
              "      <td>0.337269</td>\n",
              "      <td>0.622</td>\n",
              "      <td>0.069893</td>\n",
              "      <td>0.660399</td>\n",
              "      <td>0.392836</td>\n",
              "      <td>0.251878</td>\n",
              "      <td>0.458073</td>\n",
              "      <td>0.663806</td>\n",
              "      <td>0.235026</td>\n",
              "      <td>0.586987</td>\n",
              "      <td>0.368809</td>\n",
              "    </tr>\n",
              "  </tbody>\n",
              "</table>\n",
              "</div>"
            ],
            "text/plain": [
              "    fips           admin2  ... Wellness Disparity Profile Health Opportunity Index\n",
              "0  51540  Charlottesville  ...                   0.586987                 0.368809\n",
              "1  51540  Charlottesville  ...                   0.586987                 0.368809\n",
              "2  51540  Charlottesville  ...                   0.586987                 0.368809\n",
              "3  51540  Charlottesville  ...                   0.586987                 0.368809\n",
              "4  51540  Charlottesville  ...                   0.586987                 0.368809\n",
              "5  51540  Charlottesville  ...                   0.586987                 0.368809\n",
              "6  51540  Charlottesville  ...                   0.586987                 0.368809\n",
              "7  51540  Charlottesville  ...                   0.586987                 0.368809\n",
              "8  51540  Charlottesville  ...                   0.586987                 0.368809\n",
              "9  51540  Charlottesville  ...                   0.586987                 0.368809\n",
              "\n",
              "[10 rows x 35 columns]"
            ]
          },
          "metadata": {
            "tags": []
          },
          "execution_count": 2
        }
      ]
    },
    {
      "cell_type": "markdown",
      "metadata": {
        "id": "jI7eM9-sHCbf"
      },
      "source": [
        "# Data Cleaning\n",
        "\n",
        "Christine - clean the data"
      ]
    },
    {
      "cell_type": "code",
      "metadata": {
        "id": "PEXcWlt4H6Ox",
        "colab": {
          "base_uri": "https://localhost:8080/",
          "height": 410
        },
        "outputId": "f945d90e-6f71-43ff-d8de-3812738a1313"
      },
      "source": [
        "# Drop non-numerical or relevant labels from the dataset:\n",
        "drop_labels = [ \n",
        "               \"admin2\", \"country_region\", \n",
        "               \"province_state\", \"last_update\", \"geocoded_column\",\n",
        "               \"deaths_delta\", \"Unnamed: 16\"\n",
        "              ] \n",
        "\n",
        "data_num = data.drop(drop_labels, axis=1)\n",
        "data_num.head(10)"
      ],
      "execution_count": null,
      "outputs": [
        {
          "output_type": "execute_result",
          "data": {
            "text/html": [
              "<div>\n",
              "<style scoped>\n",
              "    .dataframe tbody tr th:only-of-type {\n",
              "        vertical-align: middle;\n",
              "    }\n",
              "\n",
              "    .dataframe tbody tr th {\n",
              "        vertical-align: top;\n",
              "    }\n",
              "\n",
              "    .dataframe thead th {\n",
              "        text-align: right;\n",
              "    }\n",
              "</style>\n",
              "<table border=\"1\" class=\"dataframe\">\n",
              "  <thead>\n",
              "    <tr style=\"text-align: right;\">\n",
              "      <th></th>\n",
              "      <th>fips</th>\n",
              "      <th>lat</th>\n",
              "      <th>long_</th>\n",
              "      <th>confirmed</th>\n",
              "      <th>confirmed_delta</th>\n",
              "      <th>deaths</th>\n",
              "      <th>recovered</th>\n",
              "      <th>recovered_delta</th>\n",
              "      <th>active</th>\n",
              "      <th>active_delta</th>\n",
              "      <th>Access to Care</th>\n",
              "      <th>Employment Accessibility</th>\n",
              "      <th>Affordability</th>\n",
              "      <th>Air Quality</th>\n",
              "      <th>Population Churning</th>\n",
              "      <th>Education</th>\n",
              "      <th>Food Accessibility</th>\n",
              "      <th>Income Inequality</th>\n",
              "      <th>Job Participation</th>\n",
              "      <th>Population Density</th>\n",
              "      <th>Segregation</th>\n",
              "      <th>Material Deprivation</th>\n",
              "      <th>Walkability</th>\n",
              "      <th>Community Environment Profile</th>\n",
              "      <th>Consumer Opportunity Profile</th>\n",
              "      <th>Economic Opportunity Profile</th>\n",
              "      <th>Wellness Disparity Profile</th>\n",
              "      <th>Health Opportunity Index</th>\n",
              "    </tr>\n",
              "  </thead>\n",
              "  <tbody>\n",
              "    <tr>\n",
              "      <th>0</th>\n",
              "      <td>51540</td>\n",
              "      <td>38.035279</td>\n",
              "      <td>-78.485696</td>\n",
              "      <td>1472</td>\n",
              "      <td>5.0</td>\n",
              "      <td>31</td>\n",
              "      <td>0</td>\n",
              "      <td>0.0</td>\n",
              "      <td>1441</td>\n",
              "      <td>5.0</td>\n",
              "      <td>0.656957</td>\n",
              "      <td>0.100728</td>\n",
              "      <td>0.501752</td>\n",
              "      <td>0.653701</td>\n",
              "      <td>0.686917</td>\n",
              "      <td>0.785421</td>\n",
              "      <td>0.944525</td>\n",
              "      <td>0.337269</td>\n",
              "      <td>0.622</td>\n",
              "      <td>0.069893</td>\n",
              "      <td>0.660399</td>\n",
              "      <td>0.392836</td>\n",
              "      <td>0.251878</td>\n",
              "      <td>0.458073</td>\n",
              "      <td>0.663806</td>\n",
              "      <td>0.235026</td>\n",
              "      <td>0.586987</td>\n",
              "      <td>0.368809</td>\n",
              "    </tr>\n",
              "    <tr>\n",
              "      <th>1</th>\n",
              "      <td>51540</td>\n",
              "      <td>38.035279</td>\n",
              "      <td>-78.485696</td>\n",
              "      <td>1467</td>\n",
              "      <td>1.0</td>\n",
              "      <td>31</td>\n",
              "      <td>0</td>\n",
              "      <td>0.0</td>\n",
              "      <td>1436</td>\n",
              "      <td>0.0</td>\n",
              "      <td>0.656957</td>\n",
              "      <td>0.100728</td>\n",
              "      <td>0.501752</td>\n",
              "      <td>0.653701</td>\n",
              "      <td>0.686917</td>\n",
              "      <td>0.785421</td>\n",
              "      <td>0.944525</td>\n",
              "      <td>0.337269</td>\n",
              "      <td>0.622</td>\n",
              "      <td>0.069893</td>\n",
              "      <td>0.660399</td>\n",
              "      <td>0.392836</td>\n",
              "      <td>0.251878</td>\n",
              "      <td>0.458073</td>\n",
              "      <td>0.663806</td>\n",
              "      <td>0.235026</td>\n",
              "      <td>0.586987</td>\n",
              "      <td>0.368809</td>\n",
              "    </tr>\n",
              "    <tr>\n",
              "      <th>2</th>\n",
              "      <td>51540</td>\n",
              "      <td>38.035279</td>\n",
              "      <td>-78.485696</td>\n",
              "      <td>1461</td>\n",
              "      <td>8.0</td>\n",
              "      <td>30</td>\n",
              "      <td>0</td>\n",
              "      <td>0.0</td>\n",
              "      <td>1431</td>\n",
              "      <td>8.0</td>\n",
              "      <td>0.656957</td>\n",
              "      <td>0.100728</td>\n",
              "      <td>0.501752</td>\n",
              "      <td>0.653701</td>\n",
              "      <td>0.686917</td>\n",
              "      <td>0.785421</td>\n",
              "      <td>0.944525</td>\n",
              "      <td>0.337269</td>\n",
              "      <td>0.622</td>\n",
              "      <td>0.069893</td>\n",
              "      <td>0.660399</td>\n",
              "      <td>0.392836</td>\n",
              "      <td>0.251878</td>\n",
              "      <td>0.458073</td>\n",
              "      <td>0.663806</td>\n",
              "      <td>0.235026</td>\n",
              "      <td>0.586987</td>\n",
              "      <td>0.368809</td>\n",
              "    </tr>\n",
              "    <tr>\n",
              "      <th>3</th>\n",
              "      <td>51540</td>\n",
              "      <td>38.035279</td>\n",
              "      <td>-78.485696</td>\n",
              "      <td>1380</td>\n",
              "      <td>16.0</td>\n",
              "      <td>29</td>\n",
              "      <td>0</td>\n",
              "      <td>0.0</td>\n",
              "      <td>1351</td>\n",
              "      <td>16.0</td>\n",
              "      <td>0.656957</td>\n",
              "      <td>0.100728</td>\n",
              "      <td>0.501752</td>\n",
              "      <td>0.653701</td>\n",
              "      <td>0.686917</td>\n",
              "      <td>0.785421</td>\n",
              "      <td>0.944525</td>\n",
              "      <td>0.337269</td>\n",
              "      <td>0.622</td>\n",
              "      <td>0.069893</td>\n",
              "      <td>0.660399</td>\n",
              "      <td>0.392836</td>\n",
              "      <td>0.251878</td>\n",
              "      <td>0.458073</td>\n",
              "      <td>0.663806</td>\n",
              "      <td>0.235026</td>\n",
              "      <td>0.586987</td>\n",
              "      <td>0.368809</td>\n",
              "    </tr>\n",
              "    <tr>\n",
              "      <th>4</th>\n",
              "      <td>51540</td>\n",
              "      <td>38.035279</td>\n",
              "      <td>-78.485696</td>\n",
              "      <td>1453</td>\n",
              "      <td>15.0</td>\n",
              "      <td>30</td>\n",
              "      <td>0</td>\n",
              "      <td>0.0</td>\n",
              "      <td>1423</td>\n",
              "      <td>15.0</td>\n",
              "      <td>0.656957</td>\n",
              "      <td>0.100728</td>\n",
              "      <td>0.501752</td>\n",
              "      <td>0.653701</td>\n",
              "      <td>0.686917</td>\n",
              "      <td>0.785421</td>\n",
              "      <td>0.944525</td>\n",
              "      <td>0.337269</td>\n",
              "      <td>0.622</td>\n",
              "      <td>0.069893</td>\n",
              "      <td>0.660399</td>\n",
              "      <td>0.392836</td>\n",
              "      <td>0.251878</td>\n",
              "      <td>0.458073</td>\n",
              "      <td>0.663806</td>\n",
              "      <td>0.235026</td>\n",
              "      <td>0.586987</td>\n",
              "      <td>0.368809</td>\n",
              "    </tr>\n",
              "    <tr>\n",
              "      <th>5</th>\n",
              "      <td>51540</td>\n",
              "      <td>38.035279</td>\n",
              "      <td>-78.485696</td>\n",
              "      <td>1466</td>\n",
              "      <td>5.0</td>\n",
              "      <td>30</td>\n",
              "      <td>0</td>\n",
              "      <td>0.0</td>\n",
              "      <td>1436</td>\n",
              "      <td>5.0</td>\n",
              "      <td>0.656957</td>\n",
              "      <td>0.100728</td>\n",
              "      <td>0.501752</td>\n",
              "      <td>0.653701</td>\n",
              "      <td>0.686917</td>\n",
              "      <td>0.785421</td>\n",
              "      <td>0.944525</td>\n",
              "      <td>0.337269</td>\n",
              "      <td>0.622</td>\n",
              "      <td>0.069893</td>\n",
              "      <td>0.660399</td>\n",
              "      <td>0.392836</td>\n",
              "      <td>0.251878</td>\n",
              "      <td>0.458073</td>\n",
              "      <td>0.663806</td>\n",
              "      <td>0.235026</td>\n",
              "      <td>0.586987</td>\n",
              "      <td>0.368809</td>\n",
              "    </tr>\n",
              "    <tr>\n",
              "      <th>6</th>\n",
              "      <td>51540</td>\n",
              "      <td>38.035279</td>\n",
              "      <td>-78.485696</td>\n",
              "      <td>1438</td>\n",
              "      <td>17.0</td>\n",
              "      <td>30</td>\n",
              "      <td>0</td>\n",
              "      <td>0.0</td>\n",
              "      <td>1408</td>\n",
              "      <td>17.0</td>\n",
              "      <td>0.656957</td>\n",
              "      <td>0.100728</td>\n",
              "      <td>0.501752</td>\n",
              "      <td>0.653701</td>\n",
              "      <td>0.686917</td>\n",
              "      <td>0.785421</td>\n",
              "      <td>0.944525</td>\n",
              "      <td>0.337269</td>\n",
              "      <td>0.622</td>\n",
              "      <td>0.069893</td>\n",
              "      <td>0.660399</td>\n",
              "      <td>0.392836</td>\n",
              "      <td>0.251878</td>\n",
              "      <td>0.458073</td>\n",
              "      <td>0.663806</td>\n",
              "      <td>0.235026</td>\n",
              "      <td>0.586987</td>\n",
              "      <td>0.368809</td>\n",
              "    </tr>\n",
              "    <tr>\n",
              "      <th>7</th>\n",
              "      <td>51540</td>\n",
              "      <td>38.035279</td>\n",
              "      <td>-78.485696</td>\n",
              "      <td>1421</td>\n",
              "      <td>35.0</td>\n",
              "      <td>30</td>\n",
              "      <td>0</td>\n",
              "      <td>0.0</td>\n",
              "      <td>1391</td>\n",
              "      <td>35.0</td>\n",
              "      <td>0.656957</td>\n",
              "      <td>0.100728</td>\n",
              "      <td>0.501752</td>\n",
              "      <td>0.653701</td>\n",
              "      <td>0.686917</td>\n",
              "      <td>0.785421</td>\n",
              "      <td>0.944525</td>\n",
              "      <td>0.337269</td>\n",
              "      <td>0.622</td>\n",
              "      <td>0.069893</td>\n",
              "      <td>0.660399</td>\n",
              "      <td>0.392836</td>\n",
              "      <td>0.251878</td>\n",
              "      <td>0.458073</td>\n",
              "      <td>0.663806</td>\n",
              "      <td>0.235026</td>\n",
              "      <td>0.586987</td>\n",
              "      <td>0.368809</td>\n",
              "    </tr>\n",
              "    <tr>\n",
              "      <th>8</th>\n",
              "      <td>51540</td>\n",
              "      <td>38.035279</td>\n",
              "      <td>-78.485696</td>\n",
              "      <td>1383</td>\n",
              "      <td>3.0</td>\n",
              "      <td>30</td>\n",
              "      <td>0</td>\n",
              "      <td>0.0</td>\n",
              "      <td>1353</td>\n",
              "      <td>2.0</td>\n",
              "      <td>0.656957</td>\n",
              "      <td>0.100728</td>\n",
              "      <td>0.501752</td>\n",
              "      <td>0.653701</td>\n",
              "      <td>0.686917</td>\n",
              "      <td>0.785421</td>\n",
              "      <td>0.944525</td>\n",
              "      <td>0.337269</td>\n",
              "      <td>0.622</td>\n",
              "      <td>0.069893</td>\n",
              "      <td>0.660399</td>\n",
              "      <td>0.392836</td>\n",
              "      <td>0.251878</td>\n",
              "      <td>0.458073</td>\n",
              "      <td>0.663806</td>\n",
              "      <td>0.235026</td>\n",
              "      <td>0.586987</td>\n",
              "      <td>0.368809</td>\n",
              "    </tr>\n",
              "    <tr>\n",
              "      <th>9</th>\n",
              "      <td>51540</td>\n",
              "      <td>38.035279</td>\n",
              "      <td>-78.485696</td>\n",
              "      <td>1386</td>\n",
              "      <td>3.0</td>\n",
              "      <td>30</td>\n",
              "      <td>0</td>\n",
              "      <td>0.0</td>\n",
              "      <td>1356</td>\n",
              "      <td>3.0</td>\n",
              "      <td>0.656957</td>\n",
              "      <td>0.100728</td>\n",
              "      <td>0.501752</td>\n",
              "      <td>0.653701</td>\n",
              "      <td>0.686917</td>\n",
              "      <td>0.785421</td>\n",
              "      <td>0.944525</td>\n",
              "      <td>0.337269</td>\n",
              "      <td>0.622</td>\n",
              "      <td>0.069893</td>\n",
              "      <td>0.660399</td>\n",
              "      <td>0.392836</td>\n",
              "      <td>0.251878</td>\n",
              "      <td>0.458073</td>\n",
              "      <td>0.663806</td>\n",
              "      <td>0.235026</td>\n",
              "      <td>0.586987</td>\n",
              "      <td>0.368809</td>\n",
              "    </tr>\n",
              "  </tbody>\n",
              "</table>\n",
              "</div>"
            ],
            "text/plain": [
              "    fips        lat  ...  Wellness Disparity Profile  Health Opportunity Index\n",
              "0  51540  38.035279  ...                    0.586987                  0.368809\n",
              "1  51540  38.035279  ...                    0.586987                  0.368809\n",
              "2  51540  38.035279  ...                    0.586987                  0.368809\n",
              "3  51540  38.035279  ...                    0.586987                  0.368809\n",
              "4  51540  38.035279  ...                    0.586987                  0.368809\n",
              "5  51540  38.035279  ...                    0.586987                  0.368809\n",
              "6  51540  38.035279  ...                    0.586987                  0.368809\n",
              "7  51540  38.035279  ...                    0.586987                  0.368809\n",
              "8  51540  38.035279  ...                    0.586987                  0.368809\n",
              "9  51540  38.035279  ...                    0.586987                  0.368809\n",
              "\n",
              "[10 rows x 28 columns]"
            ]
          },
          "metadata": {
            "tags": []
          },
          "execution_count": 3
        }
      ]
    },
    {
      "cell_type": "code",
      "metadata": {
        "id": "mZDyp0JRvUQE"
      },
      "source": [
        "# Split into X and Y training and test sets.\n",
        "train_set, test_set = train_test_split(data_num, test_size=0.2, random_state=42)"
      ],
      "execution_count": null,
      "outputs": []
    },
    {
      "cell_type": "code",
      "metadata": {
        "id": "KC0siiuvwnIq"
      },
      "source": [
        "# Pipeline data.\n",
        "pipeline = Pipeline([\n",
        "        ('imputer', SimpleImputer(strategy=\"median\")), \n",
        "        ('std_scaler', StandardScaler()),\n",
        "    ])\n",
        "\n",
        "train_set_p = pipeline.fit_transform(train_set) # train data transformed and prepared.\n",
        "test_set_p = pipeline.fit_transform(test_set) # test data transformed and prepared.\n",
        "\n",
        "# Split sets further\n",
        "X_train = train_set.drop(\"deaths\", axis=1)\n",
        "y_train = train_set[\"deaths\"].copy()\n",
        "X_test = test_set.drop(\"deaths\", axis=1)\n",
        "y_test = test_set[\"deaths\"].copy()\n"
      ],
      "execution_count": null,
      "outputs": []
    },
    {
      "cell_type": "markdown",
      "metadata": {
        "id": "AoU6Gonzy7OZ"
      },
      "source": [
        "[HOI features](https://apps.vdh.virginia.gov/omhhe/hoi/what-is-the-hoi/definitions): Access to Care\tEmployment Accessibility\tAffordability\tAir Quality\tPopulation Churning\tEducation\tFood Accessibility\tIncome Inequality\tJob Participation\tPopulation Density\tSegregation\tMaterial Deprivation\tWalkability\tCommunity Environment Profile\tConsumer Opportunity Profile\tEconomic Opportunity Profile\tWellness Disparity Profile\tHealth Opportunity Index. \t"
      ]
    },
    {
      "cell_type": "code",
      "metadata": {
        "id": "_ZnBoZp30Gtd"
      },
      "source": [
        "### For reference - TODO: Delete later.\n",
        "all_features = [\n",
        "            \"fips\",\t\"lat\",\t\"long_\",\t\"confirmed\",\t\"confirmed_delta\",\n",
        "            \"recovered\",\t\"recovered_delta\",\t\"active\",\t\"active_delta\",\n",
        "            \"Access to Care\", \"Employment Accessibility\",\t\"Affordability\",\n",
        "            \"Air Quality\",\t\"Population Churning\", \"Education\",\t\"Food Accessibility\",\n",
        "            \"Income Inequality\",\t\"Job Participation\",\t\"Population Density\",\n",
        "            \"Segregation\",\t\"Material Deprivation\",\t\"Walkability\",\n",
        "            \"Community Environment Profile\",\t\"Consumer Opportunity Profile\",\n",
        "            \"Economic Opportunity Profile\",\t\"Wellness Disparity Profile\",\n",
        "            \"Health Opportunity Index\",\n",
        "            ]\n",
        "\n",
        "# [CONTROL] Sets without any HOI data \n",
        "X_train_noHOI = X_train.drop([\"Access to Care\", \"Employment Accessibility\",\t\"Affordability\",\n",
        "            \"Air Quality\",\t\"Population Churning\", \"Education\",\t\"Food Accessibility\",\n",
        "            \"Income Inequality\",\t\"Job Participation\",\t\"Population Density\",\n",
        "            \"Segregation\",\t\"Material Deprivation\",\t\"Walkability\",\n",
        "            \"Community Environment Profile\",\t\"Consumer Opportunity Profile\",\n",
        "            \"Economic Opportunity Profile\",\t\"Wellness Disparity Profile\",\n",
        "            \"Health Opportunity Index\",], axis=1) \n",
        "X_test_noHOI = X_test.drop([\"Access to Care\", \"Employment Accessibility\",\t\"Affordability\",\n",
        "            \"Air Quality\",\t\"Population Churning\", \"Education\",\t\"Food Accessibility\",\n",
        "            \"Income Inequality\",\t\"Job Participation\",\t\"Population Density\",\n",
        "            \"Segregation\",\t\"Material Deprivation\",\t\"Walkability\",\n",
        "            \"Community Environment Profile\",\t\"Consumer Opportunity Profile\",\n",
        "            \"Economic Opportunity Profile\",\t\"Wellness Disparity Profile\",\n",
        "            \"Health Opportunity Index\",], axis=1) \n",
        "\n",
        "# Sets without all HOI features but the HOI calculation itself.\n",
        "X_train_health = X_train.drop([\"Access to Care\", \"Employment Accessibility\",\t\"Affordability\",\n",
        "            \"Air Quality\",\t\"Population Churning\", \"Education\",\t\"Food Accessibility\",\n",
        "            \"Income Inequality\",\t\"Job Participation\",\t\"Population Density\",\n",
        "            \"Segregation\",\t\"Material Deprivation\",\t\"Walkability\",\n",
        "            \"Community Environment Profile\",\t\"Consumer Opportunity Profile\",\n",
        "            \"Economic Opportunity Profile\",\t\"Wellness Disparity Profile\",], axis=1) \n",
        "X_test_health = X_test.drop([\"Access to Care\", \"Employment Accessibility\",\t\"Affordability\",\n",
        "            \"Air Quality\",\t\"Population Churning\", \"Education\",\t\"Food Accessibility\",\n",
        "            \"Income Inequality\",\t\"Job Participation\",\t\"Population Density\",\n",
        "            \"Segregation\",\t\"Material Deprivation\",\t\"Walkability\",\n",
        "            \"Community Environment Profile\",\t\"Consumer Opportunity Profile\",\n",
        "            \"Economic Opportunity Profile\",\t\"Wellness Disparity Profile\",], axis=1)\n",
        "\n",
        "# Sets with the Community Environment profile: Air Quality, Population Churning, Population Density, Walkability\n",
        "X_train_community = X_train.drop([\"Access to Care\", \"Employment Accessibility\",\t\"Affordability\",\n",
        "          \t\"Education\",\t\"Food Accessibility\",\n",
        "            \"Income Inequality\",\t\"Job Participation\",\t\"Population Density\",\n",
        "            \"Segregation\",\t\"Material Deprivation\", \"Consumer Opportunity Profile\",\n",
        "            \"Economic Opportunity Profile\",\t\"Wellness Disparity Profile\",\n",
        "            \"Health Opportunity Index\",], axis=1)\n",
        "X_test_community = X_test.drop([\"Access to Care\", \"Employment Accessibility\",\t\"Affordability\",\n",
        "          \t\"Education\",\t\"Food Accessibility\",\n",
        "            \"Income Inequality\",\t\"Job Participation\",\t\"Population Density\",\n",
        "            \"Segregation\",\t\"Material Deprivation\", \"Consumer Opportunity Profile\",\n",
        "            \"Economic Opportunity Profile\",\t\"Wellness Disparity Profile\",\n",
        "            \"Health Opportunity Index\",], axis=1)\n",
        "\n",
        "# ...Consumer Opportunity Profile: Affordability, Education, Food Accessibility, Material Deprivation\n",
        "X_train_consumer = X_train.drop([\"Access to Care\", \"Employment Accessibility\",\n",
        "            \"Air Quality\",\t\"Population Churning\",\n",
        "            \"Income Inequality\",\t\"Job Participation\",\t\"Population Density\",\n",
        "            \"Segregation\",\t\"Walkability\",\n",
        "            \"Community Environment Profile\",\n",
        "            \"Economic Opportunity Profile\",\t\"Wellness Disparity Profile\",\n",
        "            \"Health Opportunity Index\",], axis=1) \n",
        "X_test_consumer= X_test.drop([\"Access to Care\", \"Employment Accessibility\",\n",
        "            \"Air Quality\",\t\"Population Churning\",\n",
        "            \"Income Inequality\",\t\"Job Participation\",\t\"Population Density\",\n",
        "            \"Segregation\",\t\"Walkability\",\n",
        "            \"Community Environment Profile\",\n",
        "            \"Economic Opportunity Profile\",\t\"Wellness Disparity Profile\",\n",
        "            \"Health Opportunity Index\",], axis=1) \n",
        "\n",
        "\n",
        "# ...Economic Opportunity Profile: Employment Accessibility, Income Inequality, Job Participation \n",
        "X_train_economic = X_train.drop([\"Access to Care\",\t\"Affordability\",\n",
        "            \"Air Quality\",\t\"Population Churning\", \"Education\",\t\"Food Accessibility\",\n",
        "           \t\"Population Density\",\n",
        "            \"Segregation\",\t\"Material Deprivation\",\t\"Walkability\",\n",
        "            \"Community Environment Profile\",\t\"Consumer Opportunity Profile\",\n",
        "            \"Wellness Disparity Profile\",\n",
        "            \"Health Opportunity Index\",], axis=1) \n",
        "X_test_economic = X_test.drop([\"Access to Care\",\t\"Affordability\",\n",
        "            \"Air Quality\",\t\"Population Churning\", \"Education\",\t\"Food Accessibility\",\n",
        "            \"Population Density\",\n",
        "            \"Segregation\",\t\"Material Deprivation\",\t\"Walkability\",\n",
        "            \"Community Environment Profile\",\t\"Consumer Opportunity Profile\",\n",
        "            \"Wellness Disparity Profile\",\n",
        "            \"Health Opportunity Index\",], axis=1) \n",
        "\n",
        "# ...Wellness Disparity Profile: Access to Care, Segregation\n",
        "X_train_wellness = X_train.drop([\"Employment Accessibility\",\t\"Affordability\",\n",
        "            \"Air Quality\",\t\"Population Churning\", \"Education\",\t\"Food Accessibility\",\n",
        "            \"Income Inequality\",\t\"Job Participation\",\t\"Population Density\",\n",
        "           \t\"Material Deprivation\",\t\"Walkability\",\n",
        "            \"Community Environment Profile\",\t\"Consumer Opportunity Profile\",\n",
        "            \"Economic Opportunity Profile\",\n",
        "            \"Health Opportunity Index\",], axis=1) \n",
        "X_test_wellness = X_test.drop([\"Employment Accessibility\",\t\"Affordability\",\n",
        "            \"Air Quality\",\t\"Population Churning\", \"Education\",\t\"Food Accessibility\",\n",
        "            \"Income Inequality\",\t\"Job Participation\",\t\"Population Density\",\n",
        "           \t\"Material Deprivation\",\t\"Walkability\",\n",
        "            \"Community Environment Profile\",\t\"Consumer Opportunity Profile\",\n",
        "            \"Economic Opportunity Profile\",\n",
        "            \"Health Opportunity Index\",], axis=1) "
      ],
      "execution_count": null,
      "outputs": []
    },
    {
      "cell_type": "markdown",
      "metadata": {
        "id": "-0lYwbW9yV-m"
      },
      "source": [
        "**Christine noté:**\n",
        "\n",
        "I changed the label back to \"deaths\". I felt like with \"deaths\" as the unknown, we can better model that knowing the \"active\" or total cases, etc rather than vice versa. But like also we can tweak it later if we want to switch the label around. \n",
        "\n",
        "If the TA complains about our small datasets, I think have another idea that would require a bit more data cleaning but would let us use  more data (and if we can't find another dataset to augment what we already have as Sharon has previously suggested).\n",
        "\n",
        "** I also didn't do visualizations so if one of you guys have extra time to do that it would great but no pressure."
      ]
    },
    {
      "cell_type": "code",
      "metadata": {
        "id": "kXXw6qaED2L3",
        "colab": {
          "base_uri": "https://localhost:8080/",
          "height": 399
        },
        "outputId": "d1bb1c88-a93c-4fd7-e8ec-6ba8f0724d05"
      },
      "source": [
        "corr_drop_labels = [\"active\", \"confirmed_delta\", \n",
        "                    \"active_delta\", \"deaths_delta\", \"long_\",\n",
        "                    \"lat\", \"fips\", \"recovered\", \"recovered_delta\"]\n",
        "corr_data = data.drop(corr_drop_labels, axis = 1)\n",
        "corr_matrix = corr_data.corr()\n",
        "corr_matrix.shape\n",
        "corr_matrix[\"deaths\"].sort_values(ascending=False)"
      ],
      "execution_count": null,
      "outputs": [
        {
          "output_type": "execute_result",
          "data": {
            "text/plain": [
              "deaths                           1.000000e+00\n",
              "confirmed                        9.840531e-01\n",
              "Food Accessibility               2.457730e-15\n",
              "Affordability                    1.976613e-15\n",
              "Community Environment Profile    1.976613e-15\n",
              "Population Density               1.976613e-15\n",
              "Job Participation                1.976613e-15\n",
              "Segregation                      1.654538e-15\n",
              "Education                        1.654538e-15\n",
              "Material Deprivation             1.516704e-15\n",
              "Employment Accessibility         1.516704e-15\n",
              "Air Quality                      1.243361e-15\n",
              "Wellness Disparity Profile       7.989099e-16\n",
              "Economic Opportunity Profile    -6.749411e-16\n",
              "Walkability                     -6.749411e-16\n",
              "Health Opportunity Index        -1.243361e-15\n",
              "Income Inequality               -1.654538e-15\n",
              "Access to Care                  -1.976613e-15\n",
              "Consumer Opportunity Profile    -1.976613e-15\n",
              "Population Churning             -2.976399e-15\n",
              "Unnamed: 16                               NaN\n",
              "Name: deaths, dtype: float64"
            ]
          },
          "metadata": {
            "tags": []
          },
          "execution_count": 7
        }
      ]
    },
    {
      "cell_type": "code",
      "metadata": {
        "id": "QHFCUuBGGe3I"
      },
      "source": [
        "from pandas.plotting import scatter_matrix\n",
        "\n",
        "# attributes = [\"Food Accessibility\", \"Population Density\", \"Affordability\",\n",
        "#               \"Job Participation\", \"Community Environment Profile\", \"Segregation\",\n",
        "#               \"Education\", \"Material Deprivation\", \"Employment Accessibility\",\n",
        "#               \"Air Quality\", \"Wellness Disparity Profile\", \"Walkability\", \n",
        "#               \"Economic Opportunity Profile\", \"Health Opportunity Index\", \"Income Inequality\",\n",
        "#               \"Consumer Opportunity Profile\", \"Access to Care\", \"Population Churning\"]\n",
        "# scatter_matrix(corr_data[attributes], figsize=(20, 18))"
      ],
      "execution_count": null,
      "outputs": []
    },
    {
      "cell_type": "markdown",
      "metadata": {
        "id": "MU2peh5YHJwj"
      },
      "source": [
        "# Selecting a model\n",
        "\n",
        "Sharon - Try out different Regression models"
      ]
    },
    {
      "cell_type": "code",
      "metadata": {
        "id": "6a0QUAIuH5m8"
      },
      "source": [
        "from sklearn.metrics import mean_squared_error\n",
        "from sklearn.metrics import mean_absolute_error\n",
        "from sklearn.model_selection import cross_val_score\n",
        "from sklearn.linear_model import LinearRegression\n",
        "from sklearn.tree import DecisionTreeRegressor\n",
        "from sklearn.ensemble import RandomForestRegressor\n",
        "\n",
        "from sklearn.model_selection import cross_val_score"
      ],
      "execution_count": null,
      "outputs": []
    },
    {
      "cell_type": "code",
      "metadata": {
        "id": "YyBI1MFHYdGk"
      },
      "source": [
        "def display_scores(scores):\n",
        "    print(\"Scores:\", scores)\n",
        "    print(\"Mean:\", scores.mean())\n",
        "    print(\"Standard deviation:\", scores.std())"
      ],
      "execution_count": null,
      "outputs": []
    },
    {
      "cell_type": "markdown",
      "metadata": {
        "id": "w__XAxMrQm8z"
      },
      "source": [
        "* note: still have to cross validate\n"
      ]
    },
    {
      "cell_type": "markdown",
      "metadata": {
        "id": "CqmIUGxUL-W2"
      },
      "source": [
        "Testing out the Linear Regression Model"
      ]
    },
    {
      "cell_type": "code",
      "metadata": {
        "id": "1ubQPpelMAvG",
        "colab": {
          "base_uri": "https://localhost:8080/",
          "height": 35
        },
        "outputId": "732db019-c26b-4a31-859d-0ddb0cdbf68e"
      },
      "source": [
        "# No HOI data\n",
        "X_train_noHOI_prepared = pipeline.fit_transform(X_train_noHOI)\n",
        "X_test_noHOI_prepared = pipeline.fit_transform(X_test_noHOI)\n",
        "\n",
        "lin_reg_noHOI = LinearRegression()\n",
        "lin_reg_noHOI.fit(X_train_noHOI_prepared, y_train)\n",
        "\n",
        "lin_reg_noHOI_predictions = lin_reg_noHOI.predict(X_test_noHOI_prepared)\n",
        "lin_mse_noHOI = mean_squared_error(y_test, lin_reg_noHOI_predictions)\n",
        "lin_rmse_noHOI = np.sqrt(lin_mse_noHOI)\n",
        "\n",
        "lin_rmse_noHOI\n",
        "lin_mae_noHOI = mean_absolute_error(y_test, lin_reg_noHOI_predictions)\n",
        "lin_mae_noHOI"
      ],
      "execution_count": null,
      "outputs": [
        {
          "output_type": "execute_result",
          "data": {
            "text/plain": [
              "2.013415416941846"
            ]
          },
          "metadata": {
            "tags": []
          },
          "execution_count": 11
        }
      ]
    },
    {
      "cell_type": "code",
      "metadata": {
        "id": "_L-igg1sYDcu",
        "colab": {
          "base_uri": "https://localhost:8080/",
          "height": 87
        },
        "outputId": "7011f026-88de-4725-aaac-5f762148cf5a"
      },
      "source": [
        "lin_scores_1 = cross_val_score(lin_reg_noHOI, X_test_noHOI_prepared, y_test,\n",
        "                             scoring=\"neg_mean_squared_error\", cv=10)\n",
        "lin_rmse_scores_1 = np.sqrt(-lin_scores_1)\n",
        "display_scores(lin_rmse_scores_1)"
      ],
      "execution_count": null,
      "outputs": [
        {
          "output_type": "stream",
          "text": [
            "Scores: [ 1.03629654  1.49824284  0.495546   12.7594055   1.90407571  1.63927889\n",
            " 20.19997074  1.13018002  0.6506197   2.12373306]\n",
            "Mean: 4.343734900163225\n",
            "Standard deviation: 6.310695050701325\n"
          ],
          "name": "stdout"
        }
      ]
    },
    {
      "cell_type": "code",
      "metadata": {
        "id": "DOgt0thsPw6T",
        "colab": {
          "base_uri": "https://localhost:8080/",
          "height": 35
        },
        "outputId": "02be6b79-7db3-4cf0-9ebe-9c4f620bc71a"
      },
      "source": [
        "# Sets without all HOI features but the HOI calculation itself\n",
        "X_train_health_prepared = pipeline.fit_transform(X_train_health)\n",
        "X_test_health_prepared = pipeline.fit_transform(X_test_health)\n",
        "\n",
        "lin_reg_health = LinearRegression()\n",
        "lin_reg_health.fit(X_train_health_prepared, y_train)\n",
        "\n",
        "lin_reg_health_predictions = lin_reg_health.predict(X_test_health_prepared)\n",
        "lin_mse_health = mean_squared_error(y_test, lin_reg_health_predictions)\n",
        "lin_rmse_health = np.sqrt(lin_mse_health)\n",
        "\n",
        "lin_rmse_health\n",
        "\n",
        "lin_mae_health = mean_absolute_error(y_test, lin_reg_health_predictions)\n",
        "lin_mae_health"
      ],
      "execution_count": null,
      "outputs": [
        {
          "output_type": "execute_result",
          "data": {
            "text/plain": [
              "2.013415416941846"
            ]
          },
          "metadata": {
            "tags": []
          },
          "execution_count": 13
        }
      ]
    },
    {
      "cell_type": "code",
      "metadata": {
        "id": "w19u619rYotz",
        "colab": {
          "base_uri": "https://localhost:8080/",
          "height": 87
        },
        "outputId": "086e76a4-564d-4fb1-e74a-d1ccc23116b3"
      },
      "source": [
        "lin_scores_2 = cross_val_score(lin_reg_health, X_test_health_prepared, y_test,\n",
        "                             scoring=\"neg_mean_squared_error\", cv=10)\n",
        "lin_rmse_scores_2 = np.sqrt(-lin_scores_2)\n",
        "display_scores(lin_rmse_scores_2)"
      ],
      "execution_count": null,
      "outputs": [
        {
          "output_type": "stream",
          "text": [
            "Scores: [ 1.03629654  1.49824284  0.495546   12.7594055   1.90407571  1.63927889\n",
            " 20.19997074  1.13018002  0.6506197   2.12373306]\n",
            "Mean: 4.343734900163225\n",
            "Standard deviation: 6.310695050701324\n"
          ],
          "name": "stdout"
        }
      ]
    },
    {
      "cell_type": "code",
      "metadata": {
        "id": "ey4W2csHPx93",
        "colab": {
          "base_uri": "https://localhost:8080/",
          "height": 35
        },
        "outputId": "17bd9586-07dd-418c-dcdc-dfa9e4281bda"
      },
      "source": [
        "# Community Environment profile\n",
        "X_train_community_prepared = pipeline.fit_transform(X_train_community)\n",
        "X_test_community_prepared = pipeline.fit_transform(X_test_community)\n",
        "\n",
        "lin_reg_community = LinearRegression()\n",
        "lin_reg_community.fit(X_train_community_prepared, y_train)\n",
        "\n",
        "lin_reg_community_predictions = lin_reg_community.predict(X_test_community_prepared)\n",
        "lin_mse_community = mean_squared_error(y_test, lin_reg_community_predictions)\n",
        "lin_rmse_community = np.sqrt(lin_mse_community)\n",
        "\n",
        "lin_rmse_community\n",
        "\n",
        "lin_mae_community = mean_absolute_error(y_test, lin_reg_community_predictions)\n",
        "lin_mae_community"
      ],
      "execution_count": null,
      "outputs": [
        {
          "output_type": "execute_result",
          "data": {
            "text/plain": [
              "2.013415416941846"
            ]
          },
          "metadata": {
            "tags": []
          },
          "execution_count": 15
        }
      ]
    },
    {
      "cell_type": "code",
      "metadata": {
        "id": "C_iQvzpVY0Gr",
        "colab": {
          "base_uri": "https://localhost:8080/",
          "height": 87
        },
        "outputId": "219feada-21a0-4878-8df4-bd87bb673b15"
      },
      "source": [
        "lin_scores_3 = cross_val_score(lin_reg_community, X_test_community_prepared, y_test,\n",
        "                             scoring=\"neg_mean_squared_error\", cv=10)\n",
        "lin_rmse_scores_3 = np.sqrt(-lin_scores_3)\n",
        "display_scores(lin_rmse_scores_3)"
      ],
      "execution_count": null,
      "outputs": [
        {
          "output_type": "stream",
          "text": [
            "Scores: [ 1.03629654  1.49824284  0.495546   12.7594055   1.90407571  1.63927889\n",
            " 20.19997074  1.13018002  0.6506197   2.12373306]\n",
            "Mean: 4.343734900163225\n",
            "Standard deviation: 6.310695050701325\n"
          ],
          "name": "stdout"
        }
      ]
    },
    {
      "cell_type": "code",
      "metadata": {
        "id": "HAAcZF54PzDx",
        "colab": {
          "base_uri": "https://localhost:8080/",
          "height": 35
        },
        "outputId": "fbec0411-d6bc-4f75-e450-99012c49c73f"
      },
      "source": [
        "# Consumer Opportunity Profile\n",
        "X_train_consumer_prepared = pipeline.fit_transform(X_train_consumer)\n",
        "X_test_consumer_prepared = pipeline.fit_transform(X_test_consumer)\n",
        "\n",
        "lin_reg_consumer = LinearRegression()\n",
        "lin_reg_consumer.fit(X_train_consumer_prepared, y_train)\n",
        "\n",
        "lin_reg_consumer_predictions = lin_reg_consumer.predict(X_test_consumer_prepared)\n",
        "lin_mse_consumer = mean_squared_error(y_test, lin_reg_consumer_predictions)\n",
        "lin_rmse_consumer = np.sqrt(lin_mse_consumer)\n",
        "\n",
        "lin_rmse_consumer\n",
        "\n",
        "lin_mae_consumer = mean_absolute_error(y_test, lin_reg_consumer_predictions)\n",
        "lin_mae_consumer"
      ],
      "execution_count": null,
      "outputs": [
        {
          "output_type": "execute_result",
          "data": {
            "text/plain": [
              "2.013415416941846"
            ]
          },
          "metadata": {
            "tags": []
          },
          "execution_count": 17
        }
      ]
    },
    {
      "cell_type": "code",
      "metadata": {
        "id": "b6DSpvuiP0qo",
        "colab": {
          "base_uri": "https://localhost:8080/",
          "height": 35
        },
        "outputId": "a30bd93d-781d-4285-e7b9-0d7b93f5d154"
      },
      "source": [
        "# Economic Opportunity Profile\n",
        "X_train_economic_prepared = pipeline.fit_transform(X_train_economic)\n",
        "X_test_economic_prepared = pipeline.fit_transform(X_test_economic)\n",
        "\n",
        "lin_reg_economic = LinearRegression()\n",
        "lin_reg_economic.fit(X_train_economic_prepared, y_train)\n",
        "\n",
        "lin_reg_economic_predictions = lin_reg_economic.predict(X_test_economic_prepared)\n",
        "lin_mse_economic = mean_squared_error(y_test, lin_reg_economic_predictions)\n",
        "lin_rmse_economic = np.sqrt(lin_mse_economic)\n",
        "\n",
        "lin_rmse_economic\n",
        "\n",
        "lin_mae_economic = mean_absolute_error(y_test, lin_reg_economic_predictions)\n",
        "lin_mae_economic"
      ],
      "execution_count": null,
      "outputs": [
        {
          "output_type": "execute_result",
          "data": {
            "text/plain": [
              "2.013415416941846"
            ]
          },
          "metadata": {
            "tags": []
          },
          "execution_count": 18
        }
      ]
    },
    {
      "cell_type": "code",
      "metadata": {
        "id": "QsVay_63P1qy",
        "colab": {
          "base_uri": "https://localhost:8080/",
          "height": 35
        },
        "outputId": "46f96b17-49ef-4480-9ac7-d6aec165f04a"
      },
      "source": [
        "# Wellness Disparity Profile\n",
        "X_train_wellness_prepared = pipeline.fit_transform(X_train_wellness)\n",
        "X_test_wellness_prepared = pipeline.fit_transform(X_test_wellness)\n",
        "\n",
        "lin_reg_wellness = LinearRegression()\n",
        "lin_reg_wellness.fit(X_train_wellness_prepared, y_train)\n",
        "\n",
        "lin_reg_wellness_predictions = lin_reg_wellness.predict(X_test_wellness_prepared)\n",
        "lin_mse_wellness = mean_squared_error(y_test, lin_reg_wellness_predictions)\n",
        "lin_rmse_wellness = np.sqrt(lin_mse_wellness)\n",
        "\n",
        "lin_rmse_wellness\n",
        "\n",
        "lin_mae_wellness = mean_absolute_error(y_test, lin_reg_wellness_predictions)\n",
        "lin_mae_wellness"
      ],
      "execution_count": null,
      "outputs": [
        {
          "output_type": "execute_result",
          "data": {
            "text/plain": [
              "2.013415416941846"
            ]
          },
          "metadata": {
            "tags": []
          },
          "execution_count": 19
        }
      ]
    },
    {
      "cell_type": "code",
      "metadata": {
        "id": "M5fimJL7Y-lj",
        "colab": {
          "base_uri": "https://localhost:8080/",
          "height": 87
        },
        "outputId": "3c4e296c-cfd0-4799-de26-9fa10de25aa9"
      },
      "source": [
        "lin_scores_4 = cross_val_score(lin_reg_wellness, X_test_wellness_prepared, y_test,\n",
        "                             scoring=\"neg_mean_squared_error\", cv=10)\n",
        "lin_rmse_scores_4 = np.sqrt(-lin_scores_4)\n",
        "display_scores(lin_rmse_scores_4)"
      ],
      "execution_count": null,
      "outputs": [
        {
          "output_type": "stream",
          "text": [
            "Scores: [ 1.03629654  1.49824284  0.495546   12.7594055   1.90407571  1.63927889\n",
            " 20.19997074  1.13018002  0.6506197   2.12373306]\n",
            "Mean: 4.343734900163225\n",
            "Standard deviation: 6.310695050701325\n"
          ],
          "name": "stdout"
        }
      ]
    },
    {
      "cell_type": "markdown",
      "metadata": {
        "id": "jdQTrSmGSYE3"
      },
      "source": [
        "Testing out the Decision Tree Regressor"
      ]
    },
    {
      "cell_type": "code",
      "metadata": {
        "id": "bAzDa6bgScKq",
        "colab": {
          "base_uri": "https://localhost:8080/",
          "height": 121
        },
        "outputId": "07195b4e-2cbe-4634-acb1-ad6b4570aa83"
      },
      "source": [
        "# No HOI data\n",
        "tree_reg_noHOI = DecisionTreeRegressor(random_state=42)\n",
        "tree_reg_noHOI.fit(X_train_noHOI_prepared, y_train)"
      ],
      "execution_count": null,
      "outputs": [
        {
          "output_type": "execute_result",
          "data": {
            "text/plain": [
              "DecisionTreeRegressor(ccp_alpha=0.0, criterion='mse', max_depth=None,\n",
              "                      max_features=None, max_leaf_nodes=None,\n",
              "                      min_impurity_decrease=0.0, min_impurity_split=None,\n",
              "                      min_samples_leaf=1, min_samples_split=2,\n",
              "                      min_weight_fraction_leaf=0.0, presort='deprecated',\n",
              "                      random_state=42, splitter='best')"
            ]
          },
          "metadata": {
            "tags": []
          },
          "execution_count": 21
        }
      ]
    },
    {
      "cell_type": "code",
      "metadata": {
        "id": "Da95ZxJ_SxTS",
        "colab": {
          "base_uri": "https://localhost:8080/",
          "height": 35
        },
        "outputId": "af6e4b4c-7a7f-4a29-a05f-a2cc73b8c3c7"
      },
      "source": [
        "tree_reg_noHOI_predictions = tree_reg_noHOI.predict(X_test_noHOI_prepared)\n",
        "tree_mse_noHOI = mean_squared_error(y_test, tree_reg_noHOI_predictions)\n",
        "tree_rmse_noHOI = np.sqrt(tree_mse_noHOI)\n",
        "tree_rmse_noHOI"
      ],
      "execution_count": null,
      "outputs": [
        {
          "output_type": "execute_result",
          "data": {
            "text/plain": [
              "2.273030282830976"
            ]
          },
          "metadata": {
            "tags": []
          },
          "execution_count": 22
        }
      ]
    },
    {
      "cell_type": "code",
      "metadata": {
        "id": "QMcLzm_aZjVx",
        "colab": {
          "base_uri": "https://localhost:8080/",
          "height": 69
        },
        "outputId": "acff1e6a-d505-47cb-bbcc-2b4eb5158fe2"
      },
      "source": [
        "lin_scores_tree = cross_val_score(tree_reg_noHOI, X_test_noHOI_prepared, y_test,\n",
        "                             scoring=\"neg_mean_squared_error\", cv=5)\n",
        "lin_rmse_scores_tree = np.sqrt(-lin_scores_tree)\n",
        "display_scores(lin_rmse_scores_tree)"
      ],
      "execution_count": null,
      "outputs": [
        {
          "output_type": "stream",
          "text": [
            "Scores: [1.97202659 0.74535599 3.72491611 0.70710678 1.80277564]\n",
            "Mean: 1.7904362224445691\n",
            "Standard deviation: 1.099193805589947\n"
          ],
          "name": "stdout"
        }
      ]
    },
    {
      "cell_type": "code",
      "metadata": {
        "id": "GlSYqj9NMiUp",
        "colab": {
          "base_uri": "https://localhost:8080/",
          "height": 121
        },
        "outputId": "ea51e595-82ac-4dea-8ec2-d06c037921d0"
      },
      "source": [
        "# Sets without all HOI features but the HOI calculation itself\n",
        "tree_reg_health = DecisionTreeRegressor(random_state=42)\n",
        "tree_reg_health.fit(X_train_health_prepared, y_train)"
      ],
      "execution_count": null,
      "outputs": [
        {
          "output_type": "execute_result",
          "data": {
            "text/plain": [
              "DecisionTreeRegressor(ccp_alpha=0.0, criterion='mse', max_depth=None,\n",
              "                      max_features=None, max_leaf_nodes=None,\n",
              "                      min_impurity_decrease=0.0, min_impurity_split=None,\n",
              "                      min_samples_leaf=1, min_samples_split=2,\n",
              "                      min_weight_fraction_leaf=0.0, presort='deprecated',\n",
              "                      random_state=42, splitter='best')"
            ]
          },
          "metadata": {
            "tags": []
          },
          "execution_count": 24
        }
      ]
    },
    {
      "cell_type": "code",
      "metadata": {
        "id": "GutcEUGcNMcN",
        "colab": {
          "base_uri": "https://localhost:8080/",
          "height": 35
        },
        "outputId": "840ccedc-7d7a-4194-dd36-8f76e1d72f42"
      },
      "source": [
        "tree_reg_health_predictions = tree_reg_health.predict(X_test_health_prepared)\n",
        "tree_mse_health = mean_squared_error(y_test, tree_reg_health_predictions)\n",
        "tree_rmse_health = np.sqrt(tree_mse_health)\n",
        "tree_rmse_health"
      ],
      "execution_count": null,
      "outputs": [
        {
          "output_type": "execute_result",
          "data": {
            "text/plain": [
              "2.273030282830976"
            ]
          },
          "metadata": {
            "tags": []
          },
          "execution_count": 25
        }
      ]
    },
    {
      "cell_type": "code",
      "metadata": {
        "id": "kM_CXz02MlYg",
        "colab": {
          "base_uri": "https://localhost:8080/",
          "height": 121
        },
        "outputId": "dfa7ee2d-2f46-47aa-9300-484bd0647470"
      },
      "source": [
        "# Community Environment profile\n",
        "tree_reg_community = DecisionTreeRegressor(random_state=42)\n",
        "tree_reg_community.fit(X_train_community_prepared, y_train)"
      ],
      "execution_count": null,
      "outputs": [
        {
          "output_type": "execute_result",
          "data": {
            "text/plain": [
              "DecisionTreeRegressor(ccp_alpha=0.0, criterion='mse', max_depth=None,\n",
              "                      max_features=None, max_leaf_nodes=None,\n",
              "                      min_impurity_decrease=0.0, min_impurity_split=None,\n",
              "                      min_samples_leaf=1, min_samples_split=2,\n",
              "                      min_weight_fraction_leaf=0.0, presort='deprecated',\n",
              "                      random_state=42, splitter='best')"
            ]
          },
          "metadata": {
            "tags": []
          },
          "execution_count": 26
        }
      ]
    },
    {
      "cell_type": "code",
      "metadata": {
        "id": "esYSlFcMNryQ",
        "colab": {
          "base_uri": "https://localhost:8080/",
          "height": 35
        },
        "outputId": "82d18d84-4a72-4167-d191-f3f42cffdacd"
      },
      "source": [
        "tree_reg_community_predictions = tree_reg_community.predict(X_test_community_prepared)\n",
        "tree_mse_community = mean_squared_error(y_test, tree_reg_community_predictions)\n",
        "tree_rmse_community = np.sqrt(tree_mse_community)\n",
        "tree_rmse_community"
      ],
      "execution_count": null,
      "outputs": [
        {
          "output_type": "execute_result",
          "data": {
            "text/plain": [
              "2.273030282830976"
            ]
          },
          "metadata": {
            "tags": []
          },
          "execution_count": 27
        }
      ]
    },
    {
      "cell_type": "code",
      "metadata": {
        "id": "OPcgsTY3Mnla",
        "colab": {
          "base_uri": "https://localhost:8080/",
          "height": 121
        },
        "outputId": "46f97abe-7ae7-4940-e507-53d83c7a423b"
      },
      "source": [
        "# Consumer Opportunity Profile\n",
        "tree_reg_consumer = DecisionTreeRegressor(random_state=42)\n",
        "tree_reg_consumer.fit(X_train_consumer_prepared, y_train)"
      ],
      "execution_count": null,
      "outputs": [
        {
          "output_type": "execute_result",
          "data": {
            "text/plain": [
              "DecisionTreeRegressor(ccp_alpha=0.0, criterion='mse', max_depth=None,\n",
              "                      max_features=None, max_leaf_nodes=None,\n",
              "                      min_impurity_decrease=0.0, min_impurity_split=None,\n",
              "                      min_samples_leaf=1, min_samples_split=2,\n",
              "                      min_weight_fraction_leaf=0.0, presort='deprecated',\n",
              "                      random_state=42, splitter='best')"
            ]
          },
          "metadata": {
            "tags": []
          },
          "execution_count": 28
        }
      ]
    },
    {
      "cell_type": "code",
      "metadata": {
        "id": "Fgwy6SDeN4W7",
        "colab": {
          "base_uri": "https://localhost:8080/",
          "height": 35
        },
        "outputId": "60ec8be8-274e-4a78-afec-52626dc32365"
      },
      "source": [
        "tree_reg_consumer_predictions = tree_reg_consumer.predict(X_test_consumer_prepared)\n",
        "tree_mse_consumer = mean_squared_error(y_test, tree_reg_consumer_predictions)\n",
        "tree_rmse_consumer = np.sqrt(tree_mse_consumer)\n",
        "tree_rmse_consumer"
      ],
      "execution_count": null,
      "outputs": [
        {
          "output_type": "execute_result",
          "data": {
            "text/plain": [
              "2.273030282830976"
            ]
          },
          "metadata": {
            "tags": []
          },
          "execution_count": 29
        }
      ]
    },
    {
      "cell_type": "code",
      "metadata": {
        "id": "gjNX54xaMpM8",
        "colab": {
          "base_uri": "https://localhost:8080/",
          "height": 121
        },
        "outputId": "7501c6dd-3179-4248-b980-7f0269c0f6db"
      },
      "source": [
        "# Economic Opportunity Profile\n",
        "tree_reg_economic = DecisionTreeRegressor(random_state=42)\n",
        "tree_reg_economic.fit(X_train_economic_prepared, y_train)"
      ],
      "execution_count": null,
      "outputs": [
        {
          "output_type": "execute_result",
          "data": {
            "text/plain": [
              "DecisionTreeRegressor(ccp_alpha=0.0, criterion='mse', max_depth=None,\n",
              "                      max_features=None, max_leaf_nodes=None,\n",
              "                      min_impurity_decrease=0.0, min_impurity_split=None,\n",
              "                      min_samples_leaf=1, min_samples_split=2,\n",
              "                      min_weight_fraction_leaf=0.0, presort='deprecated',\n",
              "                      random_state=42, splitter='best')"
            ]
          },
          "metadata": {
            "tags": []
          },
          "execution_count": 30
        }
      ]
    },
    {
      "cell_type": "code",
      "metadata": {
        "id": "0-wALPauOF_g",
        "colab": {
          "base_uri": "https://localhost:8080/",
          "height": 35
        },
        "outputId": "c6d6fe56-a93e-4b6c-b808-63900571bbb3"
      },
      "source": [
        "tree_reg_economic_predictions = tree_reg_economic.predict(X_test_economic_prepared)\n",
        "tree_mse_economic = mean_squared_error(y_test, tree_reg_economic_predictions)\n",
        "tree_rmse_economic = np.sqrt(tree_mse_economic)\n",
        "tree_rmse_economic"
      ],
      "execution_count": null,
      "outputs": [
        {
          "output_type": "execute_result",
          "data": {
            "text/plain": [
              "2.273030282830976"
            ]
          },
          "metadata": {
            "tags": []
          },
          "execution_count": 31
        }
      ]
    },
    {
      "cell_type": "code",
      "metadata": {
        "id": "cEp0-htJMqpm",
        "colab": {
          "base_uri": "https://localhost:8080/",
          "height": 121
        },
        "outputId": "3e4bca7b-f708-4ed9-a349-df8631c93ecb"
      },
      "source": [
        "# Wellness Disparity Profile\n",
        "tree_reg_wellness = DecisionTreeRegressor(random_state=42)\n",
        "tree_reg_wellness.fit(X_train_wellness_prepared, y_train)"
      ],
      "execution_count": null,
      "outputs": [
        {
          "output_type": "execute_result",
          "data": {
            "text/plain": [
              "DecisionTreeRegressor(ccp_alpha=0.0, criterion='mse', max_depth=None,\n",
              "                      max_features=None, max_leaf_nodes=None,\n",
              "                      min_impurity_decrease=0.0, min_impurity_split=None,\n",
              "                      min_samples_leaf=1, min_samples_split=2,\n",
              "                      min_weight_fraction_leaf=0.0, presort='deprecated',\n",
              "                      random_state=42, splitter='best')"
            ]
          },
          "metadata": {
            "tags": []
          },
          "execution_count": 32
        }
      ]
    },
    {
      "cell_type": "code",
      "metadata": {
        "id": "FaC_Tah_OT-9",
        "colab": {
          "base_uri": "https://localhost:8080/",
          "height": 35
        },
        "outputId": "e6808ba2-e57b-41c9-f425-d5d0470984ff"
      },
      "source": [
        "tree_reg_wellness_predictions = tree_reg_wellness.predict(X_test_wellness_prepared)\n",
        "tree_mse_wellness = mean_squared_error(y_test, tree_reg_wellness_predictions)\n",
        "tree_rmse_wellness = np.sqrt(tree_mse_wellness)\n",
        "tree_rmse_wellness"
      ],
      "execution_count": null,
      "outputs": [
        {
          "output_type": "execute_result",
          "data": {
            "text/plain": [
              "2.273030282830976"
            ]
          },
          "metadata": {
            "tags": []
          },
          "execution_count": 33
        }
      ]
    },
    {
      "cell_type": "markdown",
      "metadata": {
        "id": "J1NsuBYkM5bo"
      },
      "source": [
        "Testing out the Random Forest Regressor"
      ]
    },
    {
      "cell_type": "code",
      "metadata": {
        "id": "HGCB0sl3M_QA",
        "colab": {
          "base_uri": "https://localhost:8080/",
          "height": 139
        },
        "outputId": "231bc352-2045-4320-c08e-9ac72d6bec4e"
      },
      "source": [
        "# No HOI data\n",
        "forest_reg_noHOI = RandomForestRegressor(n_estimators=100, random_state=42)\n",
        "forest_reg_noHOI.fit(X_train_noHOI_prepared, y_train)"
      ],
      "execution_count": null,
      "outputs": [
        {
          "output_type": "execute_result",
          "data": {
            "text/plain": [
              "RandomForestRegressor(bootstrap=True, ccp_alpha=0.0, criterion='mse',\n",
              "                      max_depth=None, max_features='auto', max_leaf_nodes=None,\n",
              "                      max_samples=None, min_impurity_decrease=0.0,\n",
              "                      min_impurity_split=None, min_samples_leaf=1,\n",
              "                      min_samples_split=2, min_weight_fraction_leaf=0.0,\n",
              "                      n_estimators=100, n_jobs=None, oob_score=False,\n",
              "                      random_state=42, verbose=0, warm_start=False)"
            ]
          },
          "metadata": {
            "tags": []
          },
          "execution_count": 34
        }
      ]
    },
    {
      "cell_type": "code",
      "metadata": {
        "id": "IeeNVgzmO5iz",
        "colab": {
          "base_uri": "https://localhost:8080/",
          "height": 35
        },
        "outputId": "450f8bf2-a3fa-4cfe-d87e-8c638bf15e39"
      },
      "source": [
        "forest_reg_noHOI_predictions = forest_reg_noHOI.predict(X_test_noHOI_prepared)\n",
        "forest_mse_noHOI = mean_squared_error(y_test, forest_reg_noHOI_predictions)\n",
        "forest_rmse_noHOI = np.sqrt(forest_mse_noHOI)\n",
        "forest_rmse_noHOI"
      ],
      "execution_count": null,
      "outputs": [
        {
          "output_type": "execute_result",
          "data": {
            "text/plain": [
              "2.196105860923137"
            ]
          },
          "metadata": {
            "tags": []
          },
          "execution_count": 35
        }
      ]
    },
    {
      "cell_type": "code",
      "metadata": {
        "id": "m1w18gZqZ-Th",
        "colab": {
          "base_uri": "https://localhost:8080/",
          "height": 87
        },
        "outputId": "67c25840-8ce3-4268-9005-146c430e334b"
      },
      "source": [
        "lin_scores_forest = cross_val_score(forest_reg_noHOI, X_test_noHOI_prepared, y_test,\n",
        "                             scoring=\"neg_mean_squared_error\", cv=10)\n",
        "lin_rmse_scores_forest = np.sqrt(-lin_scores_forest)\n",
        "display_scores(lin_rmse_scores_forest)"
      ],
      "execution_count": null,
      "outputs": [
        {
          "output_type": "stream",
          "text": [
            "Scores: [0.64753378 2.44508078 1.14133694 0.24300206 4.77448427 1.76430581\n",
            " 0.87282587 0.45005555 0.25548973 2.33946041]\n",
            "Mean: 1.4933575185654147\n",
            "Standard deviation: 1.3367667417108144\n"
          ],
          "name": "stdout"
        }
      ]
    },
    {
      "cell_type": "code",
      "metadata": {
        "id": "ZRQT4OPYNAUG",
        "colab": {
          "base_uri": "https://localhost:8080/",
          "height": 139
        },
        "outputId": "544dc8ff-cc77-421e-9fa9-c8653345d5a9"
      },
      "source": [
        "# Sets without all HOI features but the HOI calculation itself\n",
        "forest_reg_health = RandomForestRegressor(n_estimators=100, random_state=42)\n",
        "forest_reg_health.fit(X_train_health_prepared, y_train)"
      ],
      "execution_count": null,
      "outputs": [
        {
          "output_type": "execute_result",
          "data": {
            "text/plain": [
              "RandomForestRegressor(bootstrap=True, ccp_alpha=0.0, criterion='mse',\n",
              "                      max_depth=None, max_features='auto', max_leaf_nodes=None,\n",
              "                      max_samples=None, min_impurity_decrease=0.0,\n",
              "                      min_impurity_split=None, min_samples_leaf=1,\n",
              "                      min_samples_split=2, min_weight_fraction_leaf=0.0,\n",
              "                      n_estimators=100, n_jobs=None, oob_score=False,\n",
              "                      random_state=42, verbose=0, warm_start=False)"
            ]
          },
          "metadata": {
            "tags": []
          },
          "execution_count": 37
        }
      ]
    },
    {
      "cell_type": "code",
      "metadata": {
        "id": "-ZWfj7VVPVG8",
        "colab": {
          "base_uri": "https://localhost:8080/",
          "height": 35
        },
        "outputId": "22c5a3fe-ca02-4ebf-eb9d-abcb70d14410"
      },
      "source": [
        "forest_reg_health_predictions = forest_reg_health.predict(X_test_health_prepared)\n",
        "forest_mse_health = mean_squared_error(y_test, forest_reg_health_predictions)\n",
        "forest_rmse_health = np.sqrt(forest_mse_health)\n",
        "forest_rmse_health"
      ],
      "execution_count": null,
      "outputs": [
        {
          "output_type": "execute_result",
          "data": {
            "text/plain": [
              "2.1998852783941345"
            ]
          },
          "metadata": {
            "tags": []
          },
          "execution_count": 38
        }
      ]
    },
    {
      "cell_type": "code",
      "metadata": {
        "id": "n1xwdZqriYoe",
        "colab": {
          "base_uri": "https://localhost:8080/",
          "height": 87
        },
        "outputId": "b64260d3-d087-49ca-d442-b918f05c3953"
      },
      "source": [
        "lin_scores_forest_1 = cross_val_score(forest_reg_health, X_test_health_prepared, y_test,\n",
        "                             scoring=\"neg_mean_squared_error\", cv=10)\n",
        "lin_rmse_scores_forest_1 = np.sqrt(-lin_scores_forest_1)\n",
        "display_scores(lin_rmse_scores_forest_1)"
      ],
      "execution_count": null,
      "outputs": [
        {
          "output_type": "stream",
          "text": [
            "Scores: [0.53054689 2.31508963 1.10124929 0.18601075 4.84231608 1.69686476\n",
            " 0.63578691 0.57997845 0.25548973 2.33190373]\n",
            "Mean: 1.4475236212137539\n",
            "Standard deviation: 1.3603767368005901\n"
          ],
          "name": "stdout"
        }
      ]
    },
    {
      "cell_type": "code",
      "metadata": {
        "id": "GpG9cXIybop9",
        "colab": {
          "base_uri": "https://localhost:8080/",
          "height": 139
        },
        "outputId": "7edaaaff-8966-4cce-b3bd-834d66191035"
      },
      "source": [
        "forest_reg_health.get_params"
      ],
      "execution_count": null,
      "outputs": [
        {
          "output_type": "execute_result",
          "data": {
            "text/plain": [
              "<bound method BaseEstimator.get_params of RandomForestRegressor(bootstrap=True, ccp_alpha=0.0, criterion='mse',\n",
              "                      max_depth=None, max_features='auto', max_leaf_nodes=None,\n",
              "                      max_samples=None, min_impurity_decrease=0.0,\n",
              "                      min_impurity_split=None, min_samples_leaf=1,\n",
              "                      min_samples_split=2, min_weight_fraction_leaf=0.0,\n",
              "                      n_estimators=100, n_jobs=None, oob_score=False,\n",
              "                      random_state=42, verbose=0, warm_start=False)>"
            ]
          },
          "metadata": {
            "tags": []
          },
          "execution_count": 40
        }
      ]
    },
    {
      "cell_type": "code",
      "metadata": {
        "id": "dsF9dR2HNBIA",
        "colab": {
          "base_uri": "https://localhost:8080/",
          "height": 139
        },
        "outputId": "450b9d46-3c0a-4fc7-8182-57b1ac508ba4"
      },
      "source": [
        "# Community Environment profile\n",
        "forest_reg_community = RandomForestRegressor(n_estimators=100, random_state=42)\n",
        "forest_reg_community.fit(X_train_community_prepared, y_train)"
      ],
      "execution_count": null,
      "outputs": [
        {
          "output_type": "execute_result",
          "data": {
            "text/plain": [
              "RandomForestRegressor(bootstrap=True, ccp_alpha=0.0, criterion='mse',\n",
              "                      max_depth=None, max_features='auto', max_leaf_nodes=None,\n",
              "                      max_samples=None, min_impurity_decrease=0.0,\n",
              "                      min_impurity_split=None, min_samples_leaf=1,\n",
              "                      min_samples_split=2, min_weight_fraction_leaf=0.0,\n",
              "                      n_estimators=100, n_jobs=None, oob_score=False,\n",
              "                      random_state=42, verbose=0, warm_start=False)"
            ]
          },
          "metadata": {
            "tags": []
          },
          "execution_count": 41
        }
      ]
    },
    {
      "cell_type": "code",
      "metadata": {
        "id": "DIOTXyiUPdur",
        "colab": {
          "base_uri": "https://localhost:8080/",
          "height": 35
        },
        "outputId": "2d54d65b-12fd-483e-9792-4d12232957ea"
      },
      "source": [
        "forest_reg_community_predictions = forest_reg_community.predict(X_test_community_prepared)\n",
        "forest_mse_community = mean_squared_error(y_test, forest_reg_community_predictions)\n",
        "forest_rmse_community = np.sqrt(forest_mse_community)\n",
        "forest_rmse_community"
      ],
      "execution_count": null,
      "outputs": [
        {
          "output_type": "execute_result",
          "data": {
            "text/plain": [
              "2.202298582758262"
            ]
          },
          "metadata": {
            "tags": []
          },
          "execution_count": 42
        }
      ]
    },
    {
      "cell_type": "code",
      "metadata": {
        "id": "SYUnehU2irG9"
      },
      "source": [
        ""
      ],
      "execution_count": null,
      "outputs": []
    },
    {
      "cell_type": "code",
      "metadata": {
        "id": "ILYJpYm1NCHm",
        "colab": {
          "base_uri": "https://localhost:8080/",
          "height": 139
        },
        "outputId": "3538b74f-0627-4274-8da9-3c96a543cfb4"
      },
      "source": [
        "# Consumer Opportunity Profile\n",
        "forest_reg_consumer = RandomForestRegressor(n_estimators=100, random_state=42)\n",
        "forest_reg_consumer.fit(X_train_consumer_prepared, y_train)"
      ],
      "execution_count": null,
      "outputs": [
        {
          "output_type": "execute_result",
          "data": {
            "text/plain": [
              "RandomForestRegressor(bootstrap=True, ccp_alpha=0.0, criterion='mse',\n",
              "                      max_depth=None, max_features='auto', max_leaf_nodes=None,\n",
              "                      max_samples=None, min_impurity_decrease=0.0,\n",
              "                      min_impurity_split=None, min_samples_leaf=1,\n",
              "                      min_samples_split=2, min_weight_fraction_leaf=0.0,\n",
              "                      n_estimators=100, n_jobs=None, oob_score=False,\n",
              "                      random_state=42, verbose=0, warm_start=False)"
            ]
          },
          "metadata": {
            "tags": []
          },
          "execution_count": 43
        }
      ]
    },
    {
      "cell_type": "code",
      "metadata": {
        "id": "_RTNhLXcPzaA",
        "colab": {
          "base_uri": "https://localhost:8080/",
          "height": 35
        },
        "outputId": "5fae5255-4ec0-47c3-e773-d853740772b1"
      },
      "source": [
        "forest_reg_consumer_predictions = forest_reg_consumer.predict(X_test_consumer_prepared)\n",
        "forest_mse_consumer = mean_squared_error(y_test, forest_reg_consumer_predictions)\n",
        "forest_rmse_consumer = np.sqrt(forest_mse_consumer)\n",
        "forest_rmse_consumer"
      ],
      "execution_count": null,
      "outputs": [
        {
          "output_type": "execute_result",
          "data": {
            "text/plain": [
              "2.196251676964967"
            ]
          },
          "metadata": {
            "tags": []
          },
          "execution_count": 44
        }
      ]
    },
    {
      "cell_type": "code",
      "metadata": {
        "id": "J-fgmCbiivZY",
        "colab": {
          "base_uri": "https://localhost:8080/",
          "height": 87
        },
        "outputId": "927b9f28-d385-40b5-aa9a-48a97bdd5903"
      },
      "source": [
        "lin_scores_forest_2 = cross_val_score(forest_reg_consumer, X_test_consumer_prepared, y_test,\n",
        "                             scoring=\"neg_mean_squared_error\", cv=10)\n",
        "lin_rmse_scores_forest_2 = np.sqrt(-lin_scores_forest_2)\n",
        "display_scores(lin_rmse_scores_forest_2)"
      ],
      "execution_count": null,
      "outputs": [
        {
          "output_type": "stream",
          "text": [
            "Scores: [0.55288335 2.50103579 1.13681573 0.27018512 4.90098459 1.76896863\n",
            " 0.79996875 0.45428515 0.26048033 2.22043915]\n",
            "Mean: 1.4866046581030194\n",
            "Standard deviation: 1.3718491500549197\n"
          ],
          "name": "stdout"
        }
      ]
    },
    {
      "cell_type": "code",
      "metadata": {
        "id": "Iud5qa02NC6j",
        "colab": {
          "base_uri": "https://localhost:8080/",
          "height": 139
        },
        "outputId": "44778a5a-21ae-4216-abb7-e2bd5f243b23"
      },
      "source": [
        "# Economic Opportunity Profile\n",
        "forest_reg_economic = RandomForestRegressor(n_estimators=100, random_state=42)\n",
        "forest_reg_economic.fit(X_train_economic_prepared, y_train)"
      ],
      "execution_count": null,
      "outputs": [
        {
          "output_type": "execute_result",
          "data": {
            "text/plain": [
              "RandomForestRegressor(bootstrap=True, ccp_alpha=0.0, criterion='mse',\n",
              "                      max_depth=None, max_features='auto', max_leaf_nodes=None,\n",
              "                      max_samples=None, min_impurity_decrease=0.0,\n",
              "                      min_impurity_split=None, min_samples_leaf=1,\n",
              "                      min_samples_split=2, min_weight_fraction_leaf=0.0,\n",
              "                      n_estimators=100, n_jobs=None, oob_score=False,\n",
              "                      random_state=42, verbose=0, warm_start=False)"
            ]
          },
          "metadata": {
            "tags": []
          },
          "execution_count": 46
        }
      ]
    },
    {
      "cell_type": "code",
      "metadata": {
        "id": "TpnWOAvQQCBe",
        "colab": {
          "base_uri": "https://localhost:8080/",
          "height": 35
        },
        "outputId": "09a02722-a31e-412b-b857-21726c226413"
      },
      "source": [
        "forest_reg_economic_predictions = forest_reg_economic.predict(X_test_economic_prepared)\n",
        "forest_mse_economic = mean_squared_error(y_test, forest_reg_economic_predictions)\n",
        "forest_rmse_economic = np.sqrt(forest_mse_economic)\n",
        "forest_rmse_economic"
      ],
      "execution_count": null,
      "outputs": [
        {
          "output_type": "execute_result",
          "data": {
            "text/plain": [
              "2.202298582758262"
            ]
          },
          "metadata": {
            "tags": []
          },
          "execution_count": 47
        }
      ]
    },
    {
      "cell_type": "code",
      "metadata": {
        "id": "Rc6-L-XVYyrI",
        "colab": {
          "base_uri": "https://localhost:8080/",
          "height": 87
        },
        "outputId": "b47bf6bc-e3db-46da-9d65-c53f95034730"
      },
      "source": [
        "lin_scores_forest_3 = cross_val_score(forest_reg_economic, X_test_economic_prepared, y_test,\n",
        "                             scoring=\"neg_mean_squared_error\", cv=10)\n",
        "lin_rmse_scores_forest_3 = np.sqrt(-lin_scores_forest_3)\n",
        "display_scores(lin_rmse_scores_forest_3)"
      ],
      "execution_count": null,
      "outputs": [
        {
          "output_type": "stream",
          "text": [
            "Scores: [0.63924956 2.72398972 1.14353618 0.22410935 4.77448427 1.7446418\n",
            " 0.65289739 0.53700559 0.2504995  2.19809577]\n",
            "Mean: 1.4888509116832362\n",
            "Standard deviation: 1.3589845336794657\n"
          ],
          "name": "stdout"
        }
      ]
    },
    {
      "cell_type": "code",
      "metadata": {
        "id": "hTmPXC5uNDu9",
        "colab": {
          "base_uri": "https://localhost:8080/",
          "height": 139
        },
        "outputId": "de83947a-8958-4fb2-f619-f985e7f9b4fd"
      },
      "source": [
        "# Wellness Disparity Profile\n",
        "forest_reg_wellness = RandomForestRegressor(n_estimators=100, random_state=42)\n",
        "forest_reg_wellness.fit(X_train_wellness_prepared, y_train)"
      ],
      "execution_count": null,
      "outputs": [
        {
          "output_type": "execute_result",
          "data": {
            "text/plain": [
              "RandomForestRegressor(bootstrap=True, ccp_alpha=0.0, criterion='mse',\n",
              "                      max_depth=None, max_features='auto', max_leaf_nodes=None,\n",
              "                      max_samples=None, min_impurity_decrease=0.0,\n",
              "                      min_impurity_split=None, min_samples_leaf=1,\n",
              "                      min_samples_split=2, min_weight_fraction_leaf=0.0,\n",
              "                      n_estimators=100, n_jobs=None, oob_score=False,\n",
              "                      random_state=42, verbose=0, warm_start=False)"
            ]
          },
          "metadata": {
            "tags": []
          },
          "execution_count": 49
        }
      ]
    },
    {
      "cell_type": "code",
      "metadata": {
        "id": "o8lV8nBLQMly",
        "colab": {
          "base_uri": "https://localhost:8080/",
          "height": 35
        },
        "outputId": "1144e5a7-d2b6-432e-f1e1-ebc62be2c665"
      },
      "source": [
        "forest_reg_wellness_predictions = forest_reg_wellness.predict(X_test_wellness_prepared)\n",
        "forest_mse_wellness = mean_squared_error(y_test, forest_reg_wellness_predictions)\n",
        "forest_rmse_wellness = np.sqrt(forest_mse_wellness)\n",
        "forest_rmse_wellness"
      ],
      "execution_count": null,
      "outputs": [
        {
          "output_type": "execute_result",
          "data": {
            "text/plain": [
              "2.2021093783655967"
            ]
          },
          "metadata": {
            "tags": []
          },
          "execution_count": 50
        }
      ]
    },
    {
      "cell_type": "code",
      "metadata": {
        "id": "7HA6cmxeZCMi",
        "colab": {
          "base_uri": "https://localhost:8080/",
          "height": 87
        },
        "outputId": "2147743f-7ecb-483a-8f4d-a0d7922f1d55"
      },
      "source": [
        "lin_scores_forest_4 = cross_val_score(forest_reg_wellness, X_test_wellness_prepared, y_test,\n",
        "                             scoring=\"neg_mean_squared_error\", cv=10)\n",
        "lin_rmse_scores_forest_4 = np.sqrt(-lin_scores_forest_4)\n",
        "display_scores(lin_rmse_scores_forest_4)"
      ],
      "execution_count": null,
      "outputs": [
        {
          "output_type": "stream",
          "text": [
            "Scores: [0.61663604 2.61433357 1.13458142 0.22343903 4.8401033  1.73078017\n",
            " 0.79134379 0.38778216 0.2504995  2.37751972]\n",
            "Mean: 1.496701869443178\n",
            "Standard deviation: 1.3807666399523475\n"
          ],
          "name": "stdout"
        }
      ]
    },
    {
      "cell_type": "markdown",
      "metadata": {
        "id": "BD0Ir6OKHNVi"
      },
      "source": [
        "# Tuning the model\n",
        "\n",
        "Jimmy - Tune the regression model we end up picking\n",
        "\n",
        "From the cross validation, I'm thinking that we do forest_reg_health and x_test_health"
      ]
    },
    {
      "cell_type": "code",
      "metadata": {
        "id": "fdj3q9fSH8D-",
        "colab": {
          "base_uri": "https://localhost:8080/",
          "height": 399
        },
        "outputId": "1816d84e-c46c-4f7f-e6b9-0254671fa503"
      },
      "source": [
        "from sklearn.model_selection import GridSearchCV\n",
        "\n",
        "param_grid = [\n",
        "    # try 12 (3×4) combinations of hyperparameters\n",
        "    {'n_estimators': [3, 10, 30, 50, 100, 250, 180, 200], 'max_features': [2, 3, 4, 5, 6, 7, 8, 9, 10]},\n",
        "    # then try 6 (2×3) combinations with bootstrap set as False\n",
        "    {'bootstrap': [False], 'n_estimators': [3, 10, 30, 50, 100, 250, 180, 200], 'max_features': [2, 3, 4, 5, 6, 7, 8, 9, 10]},\n",
        "  ]\n",
        "\n",
        "  \n",
        "# train across 5 folds, that's a total of 90 rounds of training \n",
        "grid_search = GridSearchCV(forest_reg_health, param_grid, cv=5,\n",
        "                           scoring='neg_mean_squared_error',\n",
        "                           return_train_score=True)\n",
        "grid_search.fit(X_train_health_prepared, y_train)"
      ],
      "execution_count": null,
      "outputs": [
        {
          "output_type": "execute_result",
          "data": {
            "text/plain": [
              "GridSearchCV(cv=5, error_score=nan,\n",
              "             estimator=RandomForestRegressor(bootstrap=True, ccp_alpha=0.0,\n",
              "                                             criterion='mse', max_depth=None,\n",
              "                                             max_features='auto',\n",
              "                                             max_leaf_nodes=None,\n",
              "                                             max_samples=None,\n",
              "                                             min_impurity_decrease=0.0,\n",
              "                                             min_impurity_split=None,\n",
              "                                             min_samples_leaf=1,\n",
              "                                             min_samples_split=2,\n",
              "                                             min_weight_fraction_leaf=0.0,\n",
              "                                             n_estimators=100, n_jobs=None,\n",
              "                                             oob_score=False, rand...\n",
              "                                             verbose=0, warm_start=False),\n",
              "             iid='deprecated', n_jobs=None,\n",
              "             param_grid=[{'max_features': [2, 3, 4, 5, 6, 7, 8, 9, 10],\n",
              "                          'n_estimators': [3, 10, 30, 50, 100, 250, 180, 200]},\n",
              "                         {'bootstrap': [False],\n",
              "                          'max_features': [2, 3, 4, 5, 6, 7, 8, 9, 10],\n",
              "                          'n_estimators': [3, 10, 30, 50, 100, 250, 180, 200]}],\n",
              "             pre_dispatch='2*n_jobs', refit=True, return_train_score=True,\n",
              "             scoring='neg_mean_squared_error', verbose=0)"
            ]
          },
          "metadata": {
            "tags": []
          },
          "execution_count": 52
        }
      ]
    },
    {
      "cell_type": "code",
      "metadata": {
        "id": "yo7XnPWwuwAr"
      },
      "source": [
        ""
      ],
      "execution_count": null,
      "outputs": []
    },
    {
      "cell_type": "code",
      "metadata": {
        "id": "iYuXMiXIazQ8",
        "colab": {
          "base_uri": "https://localhost:8080/",
          "height": 87
        },
        "outputId": "d53c2e10-a583-435f-abb7-a2f8e8ae87b8"
      },
      "source": [
        "final_model = grid_search.best_estimator_\n",
        "\n",
        "final_scores = cross_val_score(final_model, X_test_wellness_prepared, y_test,\n",
        "                             scoring=\"neg_mean_squared_error\", cv=10)\n",
        "final_rmse_scores = np.sqrt(-final_scores)\n",
        "display_scores(final_rmse_scores)"
      ],
      "execution_count": null,
      "outputs": [
        {
          "output_type": "stream",
          "text": [
            "Scores: [0.61248331 3.01788189 1.22277134 0.08579692 4.87292928 1.70235403\n",
            " 0.79617624 0.39427813 0.29348639 2.26099167]\n",
            "Mean: 1.525914920901409\n",
            "Standard deviation: 1.4259078805449104\n"
          ],
          "name": "stdout"
        }
      ]
    },
    {
      "cell_type": "code",
      "metadata": {
        "id": "rx5uPJxmwKet",
        "colab": {
          "base_uri": "https://localhost:8080/",
          "height": 257
        },
        "outputId": "71bb3b5e-41c7-4d5b-cd3a-49b496c45d96"
      },
      "source": [
        "X_train_health.head()"
      ],
      "execution_count": null,
      "outputs": [
        {
          "output_type": "execute_result",
          "data": {
            "text/html": [
              "<div>\n",
              "<style scoped>\n",
              "    .dataframe tbody tr th:only-of-type {\n",
              "        vertical-align: middle;\n",
              "    }\n",
              "\n",
              "    .dataframe tbody tr th {\n",
              "        vertical-align: top;\n",
              "    }\n",
              "\n",
              "    .dataframe thead th {\n",
              "        text-align: right;\n",
              "    }\n",
              "</style>\n",
              "<table border=\"1\" class=\"dataframe\">\n",
              "  <thead>\n",
              "    <tr style=\"text-align: right;\">\n",
              "      <th></th>\n",
              "      <th>fips</th>\n",
              "      <th>lat</th>\n",
              "      <th>long_</th>\n",
              "      <th>confirmed</th>\n",
              "      <th>confirmed_delta</th>\n",
              "      <th>recovered</th>\n",
              "      <th>recovered_delta</th>\n",
              "      <th>active</th>\n",
              "      <th>active_delta</th>\n",
              "      <th>Health Opportunity Index</th>\n",
              "    </tr>\n",
              "  </thead>\n",
              "  <tbody>\n",
              "    <tr>\n",
              "      <th>86</th>\n",
              "      <td>51540</td>\n",
              "      <td>38.035279</td>\n",
              "      <td>-78.485696</td>\n",
              "      <td>433</td>\n",
              "      <td>13.0</td>\n",
              "      <td>0</td>\n",
              "      <td>0.0</td>\n",
              "      <td>425</td>\n",
              "      <td>13.0</td>\n",
              "      <td>0.368809</td>\n",
              "    </tr>\n",
              "    <tr>\n",
              "      <th>202</th>\n",
              "      <td>51540</td>\n",
              "      <td>38.035279</td>\n",
              "      <td>-78.485696</td>\n",
              "      <td>11</td>\n",
              "      <td>2.0</td>\n",
              "      <td>0</td>\n",
              "      <td>0.0</td>\n",
              "      <td>0</td>\n",
              "      <td>0.0</td>\n",
              "      <td>0.368809</td>\n",
              "    </tr>\n",
              "    <tr>\n",
              "      <th>67</th>\n",
              "      <td>51540</td>\n",
              "      <td>38.035279</td>\n",
              "      <td>-78.485696</td>\n",
              "      <td>451</td>\n",
              "      <td>8.0</td>\n",
              "      <td>0</td>\n",
              "      <td>0.0</td>\n",
              "      <td>442</td>\n",
              "      <td>7.0</td>\n",
              "      <td>0.368809</td>\n",
              "    </tr>\n",
              "    <tr>\n",
              "      <th>82</th>\n",
              "      <td>51540</td>\n",
              "      <td>38.035279</td>\n",
              "      <td>-78.485696</td>\n",
              "      <td>420</td>\n",
              "      <td>8.0</td>\n",
              "      <td>0</td>\n",
              "      <td>0.0</td>\n",
              "      <td>412</td>\n",
              "      <td>8.0</td>\n",
              "      <td>0.368809</td>\n",
              "    </tr>\n",
              "    <tr>\n",
              "      <th>204</th>\n",
              "      <td>51540</td>\n",
              "      <td>38.035279</td>\n",
              "      <td>-78.485696</td>\n",
              "      <td>13</td>\n",
              "      <td>1.0</td>\n",
              "      <td>0</td>\n",
              "      <td>0.0</td>\n",
              "      <td>0</td>\n",
              "      <td>0.0</td>\n",
              "      <td>0.368809</td>\n",
              "    </tr>\n",
              "  </tbody>\n",
              "</table>\n",
              "</div>"
            ],
            "text/plain": [
              "      fips        lat  ...  active_delta  Health Opportunity Index\n",
              "86   51540  38.035279  ...          13.0                  0.368809\n",
              "202  51540  38.035279  ...           0.0                  0.368809\n",
              "67   51540  38.035279  ...           7.0                  0.368809\n",
              "82   51540  38.035279  ...           8.0                  0.368809\n",
              "204  51540  38.035279  ...           0.0                  0.368809\n",
              "\n",
              "[5 rows x 10 columns]"
            ]
          },
          "metadata": {
            "tags": []
          },
          "execution_count": 54
        }
      ]
    },
    {
      "cell_type": "code",
      "metadata": {
        "id": "2prDUKqPcm26",
        "colab": {
          "base_uri": "https://localhost:8080/",
          "height": 436
        },
        "outputId": "5302c031-c2fb-4045-bf83-23517cd8eb9a"
      },
      "source": [
        "from sklearn.model_selection import RandomizedSearchCV\n",
        "from scipy.stats import randint\n",
        "\n",
        "param_distribs = {\n",
        "        'n_estimators': randint(low=1, high=200),\n",
        "        'max_features': ['auto', 'sqrt'],\n",
        "    }\n",
        "\n",
        "# Number of trees in random forest\n",
        "n_estimators = [int(x) for x in np.linspace(start = 10, stop = 2000, num = 10)]\n",
        "# Number of features to consider at every split\n",
        "max_features = ['auto', 'sqrt']\n",
        "# Maximum number of levels in tree\n",
        "max_depth = [int(x) for x in np.linspace(10, 110, num = 11)]\n",
        "max_depth.append(None)\n",
        "# Minimum number of samples required to split a node\n",
        "min_samples_split = [2, 5, 10]\n",
        "# Minimum number of samples required at each leaf node\n",
        "min_samples_leaf = [1, 2, 4]\n",
        "# Method of selecting samples for training each tree\n",
        "bootstrap = [True, False]\n",
        "\n",
        "random_grid = {'n_estimators': n_estimators,\n",
        "               'max_features': max_features,\n",
        "               'max_depth': max_depth,\n",
        "               'min_samples_split': min_samples_split,\n",
        "               'min_samples_leaf': min_samples_leaf,\n",
        "               'bootstrap': bootstrap}\n",
        "\n",
        "#forest_reg = RandomForestRegressor(random_state=42)\n",
        "rnd_search = RandomizedSearchCV(forest_reg_health, param_distributions=param_distribs,\n",
        "                                n_iter=10, cv=5, scoring='neg_mean_squared_error', random_state=42)\n",
        "rnd_search.fit(X_train_health_prepared, y_train)"
      ],
      "execution_count": null,
      "outputs": [
        {
          "output_type": "execute_result",
          "data": {
            "text/plain": [
              "RandomizedSearchCV(cv=5, error_score=nan,\n",
              "                   estimator=RandomForestRegressor(bootstrap=True,\n",
              "                                                   ccp_alpha=0.0,\n",
              "                                                   criterion='mse',\n",
              "                                                   max_depth=None,\n",
              "                                                   max_features='auto',\n",
              "                                                   max_leaf_nodes=None,\n",
              "                                                   max_samples=None,\n",
              "                                                   min_impurity_decrease=0.0,\n",
              "                                                   min_impurity_split=None,\n",
              "                                                   min_samples_leaf=1,\n",
              "                                                   min_samples_split=2,\n",
              "                                                   min_weight_fraction_leaf=0.0,\n",
              "                                                   n_estimators=100,\n",
              "                                                   n_jobs=None, oob_score=False,\n",
              "                                                   random_state=42, verbose=0,\n",
              "                                                   warm_start=False),\n",
              "                   iid='deprecated', n_iter=10, n_jobs=None,\n",
              "                   param_distributions={'max_features': ['auto', 'sqrt'],\n",
              "                                        'n_estimators': <scipy.stats._distn_infrastructure.rv_frozen object at 0x7f249614d7f0>},\n",
              "                   pre_dispatch='2*n_jobs', random_state=42, refit=True,\n",
              "                   return_train_score=False, scoring='neg_mean_squared_error',\n",
              "                   verbose=0)"
            ]
          },
          "metadata": {
            "tags": []
          },
          "execution_count": 62
        }
      ]
    },
    {
      "cell_type": "code",
      "metadata": {
        "id": "WusSkZhNu3E0",
        "colab": {
          "base_uri": "https://localhost:8080/",
          "height": 191
        },
        "outputId": "42fea059-ffb3-400b-f36b-782a709be4d9"
      },
      "source": [
        "cvres = rnd_search.cv_results_\n",
        "for mean_score, params in zip(cvres[\"mean_test_score\"], cvres[\"params\"]):\n",
        "    print(np.sqrt(-mean_score), params)"
      ],
      "execution_count": null,
      "outputs": [
        {
          "output_type": "stream",
          "text": [
            "0.42520103737504106 {'max_features': 'auto', 'n_estimators': 180}\n",
            "0.4617343968112547 {'max_features': 'auto', 'n_estimators': 15}\n",
            "0.4290431784897699 {'max_features': 'auto', 'n_estimators': 72}\n",
            "0.44033869387862884 {'max_features': 'auto', 'n_estimators': 21}\n",
            "0.42458268353318246 {'max_features': 'auto', 'n_estimators': 122}\n",
            "0.42878263194134325 {'max_features': 'auto', 'n_estimators': 75}\n",
            "0.43033764604878794 {'max_features': 'auto', 'n_estimators': 88}\n",
            "0.4268744759081037 {'max_features': 'auto', 'n_estimators': 100}\n",
            "0.8565035172103523 {'max_features': 'sqrt', 'n_estimators': 152}\n",
            "0.4219358944080238 {'max_features': 'auto', 'n_estimators': 150}\n"
          ],
          "name": "stdout"
        }
      ]
    },
    {
      "cell_type": "code",
      "metadata": {
        "id": "jWKt38v_vXaa",
        "colab": {
          "base_uri": "https://localhost:8080/",
          "height": 87
        },
        "outputId": "f7eb8471-e8fc-4cdf-fce3-304a95613935"
      },
      "source": [
        "final_rnd_model = rnd_search.best_estimator_\n",
        "\n",
        "final_rnd_scores = cross_val_score(final_rnd_model, X_test_wellness_prepared, y_test,\n",
        "                             scoring=\"neg_mean_squared_error\", cv=10)\n",
        "final_rnd_rmse_scores = np.sqrt(-final_rnd_scores)\n",
        "display_scores(final_rnd_rmse_scores)"
      ],
      "execution_count": null,
      "outputs": [
        {
          "output_type": "stream",
          "text": [
            "Scores: [0.64797119 2.48235014 1.20671271 0.18187297 4.76615965 1.72213692\n",
            " 0.69652311 0.3438669  0.28366647 2.42441516]\n",
            "Mean: 1.4755675219345825\n",
            "Standard deviation: 1.3616844304800713\n"
          ],
          "name": "stdout"
        }
      ]
    },
    {
      "cell_type": "markdown",
      "metadata": {
        "id": "ee3JuepSHYBY"
      },
      "source": [
        "# Presenting Our Solution\n",
        "\n",
        "What we found\n"
      ]
    }
  ]
}